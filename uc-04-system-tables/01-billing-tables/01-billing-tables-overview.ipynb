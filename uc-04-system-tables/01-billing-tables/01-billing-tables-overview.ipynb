{
 "cells": [
  {
   "cell_type": "markdown",
   "metadata": {
    "application/vnd.databricks.v1+cell": {
     "cellMetadata": {},
     "inputWidgets": {},
     "nuid": "aea6ef02-726c-4051-931a-85efe355e29a",
     "showTitle": false,
     "tableResultSettingsMap": {},
     "title": ""
    }
   },
   "source": [
    "\n",
    "# Databricks System Tables - Billing logs\n",
    "\n",
    "Databricks collects and update your billing logs using the `system.billing.usage` table.\n",
    "\n",
    "This table contains all your consumption usage and lets you track your spend across all your workspaces.\n",
    "\n",
    "This main table contains the following information: \n",
    "\n",
    "<img src=\"https://github.com/databricks-demos/dbdemos-resources/blob/main/images/product/uc/system_tables/dashboard-governance-billing.png?raw=true\" width=\"450px\" style=\"float: right\">\n",
    "\n",
    "- `account_id`: ID of the Databricks account or Azure Subscription ID\n",
    "- `workspace_id`: ID of the workspace this usage was associated with\n",
    "- `record_id`: unique id for the record\n",
    "- `sku_name`: name of the sku\n",
    "- `cloud`: cloud this usage is associated to \n",
    "- `usage_start_time`: start time of usage record\n",
    "- `usage_end_time`: end time of usage record \n",
    "- `usage_date`: date of usage record\n",
    "- `custom_tags`: tag metadata associated to the usage \n",
    "- `usage_unit`: unit this usage measures (i.e. DBUs)\n",
    "- `usage_quantity`: number of units consumed\n",
    "- `usage_metadata`: other relevant information about the usage  \n",
    "\n",
    "<!-- Collect usage data (view). Remove it to disable collection or disable tracker during installation. View README for more details.  -->\n",
    "<img width=\"1px\" src=\"https://ppxrzfxige.execute-api.us-west-2.amazonaws.com/v1/analytics?category=governance&org_id=1444828305810485&notebook=%2F01-billing-tables%2F01-billing-tables-overview&demo_name=uc-04-system-tables&event=VIEW&path=%2F_dbdemos%2Fgovernance%2Fuc-04-system-tables%2F01-billing-tables%2F01-billing-tables-overview&version=1&user_hash=ddf348067415027dc6243f8b145629a2bf969356f50e695cd9fcf1cc18a6c40d\">"
   ]
  },
  {
   "cell_type": "markdown",
   "metadata": {
    "application/vnd.databricks.v1+cell": {
     "cellMetadata": {},
     "inputWidgets": {},
     "nuid": "dd3d6b03-fda9-4bb2-93d2-8d39b68991a0",
     "showTitle": false,
     "tableResultSettingsMap": {},
     "title": ""
    }
   },
   "source": [
    "# Built in Account Usage Tracking Dashboard\n",
    "\n",
    "You can access and install built in $DBU Dashboard as an admin, from the Databricks account console.\n",
    "\n",
    "As part of this demo, we also installed this dashboard. You can access it here: <a dbdemos-dashboard-id=\"account-usage\" href='/sql/dashboardsv3/01f04ac4dd2916d090bae9c2e8a2f168' target=\"_blank\">Account Usage Cost tracking dashboard</a>"
   ]
  },
  {
   "cell_type": "markdown",
   "metadata": {
    "application/vnd.databricks.v1+cell": {
     "cellMetadata": {},
     "inputWidgets": {},
     "nuid": "3dfd976f-0289-4878-8ce5-db54908812a1",
     "showTitle": false,
     "tableResultSettingsMap": {},
     "title": ""
    }
   },
   "source": [
    "# Model Serving Endpoint Tracking Dashboard demo example\n",
    "\n",
    "Dbdemos also installed for you a Model Serving endpoint dashboard. Use it to track your Model Serving cost and analyse which endpoint is running.\n",
    "\n",
    "You can access it here: <a dbdemos-dashboard-id=\"model-serving-cost\" href='/sql/dashboardsv3/01f04ac4e08d15c09ab5e83259010feb' target=\"_blank\">Model Serving Endpoint Cost tracking dashboard</a>"
   ]
  },
  {
   "cell_type": "markdown",
   "metadata": {
    "application/vnd.databricks.v1+cell": {
     "cellMetadata": {},
     "inputWidgets": {},
     "nuid": "826e928a-1451-4de9-94c5-3caedf85e608",
     "showTitle": false,
     "tableResultSettingsMap": {},
     "title": ""
    }
   },
   "source": [
    "# DBSQL warehouse Tracking Dashboard demo example\n",
    "\n",
    "Dbdemos also installed for you a Warehouse / Serverless dashboard. Use it to track your cost and analyse which warehouse is running, from which Dashboard, which workspace is consuming what.\n",
    "\n",
    "You can access it here: <a dbdemos-dashboard-id=\"warehouse-serverless-cost\" href='/sql/dashboardsv3/01f04ac4e281169d8cd78f76f7eb7979' target=\"_blank\">SQL Warehouse Endpoint Cost tracking dashboard</a>"
   ]
  },
  {
   "cell_type": "markdown",
   "metadata": {
    "application/vnd.databricks.v1+cell": {
     "cellMetadata": {},
     "inputWidgets": {},
     "nuid": "896bde21-a029-4508-add6-72379190d54d",
     "showTitle": false,
     "tableResultSettingsMap": {},
     "title": ""
    }
   },
   "source": [
    "# Workflow and Job Tracking Dashboard\n",
    "\n",
    "Want to Track your job runs and find which job is consuming the most resources? Analyze your Workflow and Job consumption with the <a dbdemos-dashboard-id=\"worklow-analysis\" href='/sql/dashboardsv3/01f04ac4e43b13228e52a27a6f71b559' target=\"_blank\">Workflow and Job Cost tracking dashboard example</a>"
   ]
  },
  {
   "cell_type": "markdown",
   "metadata": {
    "application/vnd.databricks.v1+cell": {
     "cellMetadata": {},
     "inputWidgets": {},
     "nuid": "0db4f379-4c73-4d5f-b29e-0641d0b2fc49",
     "showTitle": false,
     "tableResultSettingsMap": {},
     "title": ""
    }
   },
   "source": [
    "*Looking for the notebook used to create the <a dbdemos-dashboard-id=\"cost-forecasting\" href='/sql/dashboardsv3/01f04ac4deeb112485f0814d6c8ad797' target=\"_blank\">forecasting dashboard</a>? Jump to the [02-forecast-billing-tables]($./02-forecast-billing-tables) notebook.*"
   ]
  },
  {
   "cell_type": "code",
   "execution_count": 0,
   "metadata": {
    "application/vnd.databricks.v1+cell": {
     "cellMetadata": {},
     "inputWidgets": {},
     "nuid": "d0b83658-eaf2-4616-b23c-c2d237e1d0b7",
     "showTitle": true,
     "tableResultSettingsMap": {},
     "title": "Init setup"
    },
    "jupyter": {
     "outputs_hidden": true
    }
   },
   "outputs": [],
   "source": [
    "%run ../_resources/00-setup $reset_all_data=false"
   ]
  },
  {
   "cell_type": "markdown",
   "metadata": {
    "application/vnd.databricks.v1+cell": {
     "cellMetadata": {},
     "inputWidgets": {},
     "nuid": "95d2b5c3-6bee-42a2-86db-0a5b7034289a",
     "showTitle": false,
     "tableResultSettingsMap": {},
     "title": ""
    }
   },
   "source": [
    "## A note on pricing tables\n",
    "Note that Pricing tables (containing the price information in `$` for each SKU) is available as a system table.\n",
    "\n",
    "**Please consider these numbers as estimates which do not include any add-ons or discounts. It is using list price, not contractual. Please review your contract for more accurate information.**"
   ]
  },
  {
   "cell_type": "code",
   "execution_count": 0,
   "metadata": {
    "application/vnd.databricks.v1+cell": {
     "cellMetadata": {},
     "inputWidgets": {},
     "nuid": "1ec8eeed-0458-4f0d-924d-75b053f21605",
     "showTitle": true,
     "tableResultSettingsMap": {},
     "title": "Review our billing table"
    }
   },
   "outputs": [],
   "source": [
    "select * from system.billing.usage limit 50"
   ]
  },
  {
   "cell_type": "markdown",
   "metadata": {
    "application/vnd.databricks.v1+cell": {
     "cellMetadata": {},
     "inputWidgets": {},
     "nuid": "71bb81d3-46b2-47d9-a494-d40cc92fc92b",
     "showTitle": false,
     "tableResultSettingsMap": {},
     "title": ""
    }
   },
   "source": [
    "## Billing query examples \n"
   ]
  },
  {
   "cell_type": "markdown",
   "metadata": {
    "application/vnd.databricks.v1+cell": {
     "cellMetadata": {},
     "inputWidgets": {},
     "nuid": "319d8cef-21e4-49bf-b443-4befe1669476",
     "showTitle": false,
     "tableResultSettingsMap": {},
     "title": ""
    }
   },
   "source": [
    "### Jobs Usage \n",
    "\n",
    "Jobs are scheduled code and have extremely predictable usage over time. Since jobs are automated it is important to monitor which jobs are put into production to avoid unnecessary spend. Let's take a look at job spend over time. "
   ]
  },
  {
   "cell_type": "code",
   "execution_count": 0,
   "metadata": {
    "application/vnd.databricks.v1+cell": {
     "cellMetadata": {},
     "inputWidgets": {},
     "nuid": "4b13371f-f842-4782-aad5-0eaaa3ee72c0",
     "showTitle": false,
     "tableResultSettingsMap": {},
     "title": ""
    }
   },
   "outputs": [],
   "source": [
    "select\n",
    "  u.account_id,\n",
    "  u.workspace_id,\n",
    "  u.sku_name,\n",
    "  u.cloud,\n",
    "  u.usage_start_time,\n",
    "  u.usage_end_time,\n",
    "  u.usage_date,\n",
    "  date_format(u.usage_date, 'yyyy-MM') as YearMonth,\n",
    "  u.usage_unit,\n",
    "  u.usage_quantity,\n",
    "  lp.pricing.default as list_price,\n",
    "  lp.pricing.default * u.usage_quantity as list_cost,\n",
    "  u.usage_metadata.*\n",
    "from\n",
    "  system.billing.usage u \n",
    "  inner join system.billing.list_prices lp on u.cloud = lp.cloud and\n",
    "    u.sku_name = lp.sku_name and\n",
    "    u.usage_start_time >= lp.price_start_time and\n",
    "    (u.usage_end_time <= lp.price_end_time or lp.price_end_time is null)\n",
    "\n",
    "where\n",
    "  usage_metadata.job_id is not Null"
   ]
  },
  {
   "cell_type": "markdown",
   "metadata": {
    "application/vnd.databricks.v1+cell": {
     "cellMetadata": {},
     "inputWidgets": {},
     "nuid": "17f9c0a4-e1d1-434a-9e48-2cb59b39f9bd",
     "showTitle": false,
     "tableResultSettingsMap": {},
     "title": ""
    }
   },
   "source": [
    "### Interactive Jobs \n",
    "\n",
    "Interactive (All Purpose) compute are clusters meant to be used during the development process. Once a solution is developed it is considered a best practice to move them to job clusters. We will want to keep an eye on how many jobs are created on all purpose and alert the users when that happens to make the change. "
   ]
  },
  {
   "cell_type": "code",
   "execution_count": 0,
   "metadata": {
    "application/vnd.databricks.v1+cell": {
     "cellMetadata": {},
     "inputWidgets": {},
     "nuid": "34a15fe0-adc7-498b-b447-725198833a74",
     "showTitle": false,
     "tableResultSettingsMap": {},
     "title": "Interactive Jobs"
    }
   },
   "outputs": [],
   "source": [
    "with created_jobs as (\n",
    "  select\n",
    "    workspace_id,\n",
    "    event_time as created_time,\n",
    "    user_identity.email as creator,\n",
    "    request_id,\n",
    "    event_id,\n",
    "    get_json_object(response.result, '$.job_id') as job_id,\n",
    "    request_params.name as job_name,\n",
    "    request_params.job_type,\n",
    "    request_params.schedule\n",
    "  from\n",
    "    system.access.audit\n",
    "  where\n",
    "    action_name = 'create'\n",
    "    and service_name = 'jobs'\n",
    "    and response.status_code = 200\n",
    "),\n",
    "deleted_jobs as (\n",
    "  select\n",
    "    request_params.job_id,\n",
    "    workspace_id\n",
    "  from\n",
    "    system.access.audit\n",
    "  where\n",
    "    action_name = 'delete'\n",
    "    and service_name = 'jobs'\n",
    "    and response.status_code = 200\n",
    ")\n",
    "select\n",
    "  a.workspace_id,\n",
    "  a.sku_name,\n",
    "  a.cloud,\n",
    "  a.usage_date,\n",
    "  date_format(usage_date, 'yyyy-MM') as YearMonth,\n",
    "  a.usage_unit,\n",
    "  d.pricing.default as list_price,\n",
    "  sum(a.usage_quantity) total_dbus,\n",
    "  sum(a.usage_quantity) * d.pricing.default as list_cost,\n",
    "  a.usage_metadata.*,\n",
    "  case\n",
    "    when b.job_id is not null then TRUE\n",
    "    else FALSE\n",
    "  end as job_created_flag,\n",
    "  case\n",
    "    when c.job_id is not null then TRUE\n",
    "    else FALSE\n",
    "  end as job_deleted_flag\n",
    "from\n",
    "  system.billing.usage a\n",
    "  left join created_jobs b on a.workspace_id = b.workspace_id\n",
    "  and a.usage_metadata.job_id = b.job_id\n",
    "  left join deleted_jobs c on a.workspace_id = c.workspace_id\n",
    "  and a.usage_metadata.job_id = c.job_id\n",
    "  left join system.billing.list_prices d on a.cloud = d.cloud and\n",
    "    a.sku_name = d.sku_name and\n",
    "    a.usage_start_time >= d.price_start_time and\n",
    "    (a.usage_end_time <= d.price_end_time or d.price_end_time is null)\n",
    "where\n",
    "  usage_metadata.job_id is not Null\n",
    "  and contains(a.sku_name, 'ALL_PURPOSE')\n",
    "group by\n",
    "  all"
   ]
  },
  {
   "cell_type": "markdown",
   "metadata": {
    "application/vnd.databricks.v1+cell": {
     "cellMetadata": {},
     "inputWidgets": {},
     "nuid": "add8615b-84a4-498f-a9ad-5ac14ea0ff10",
     "showTitle": false,
     "tableResultSettingsMap": {},
     "title": ""
    }
   },
   "source": [
    "### Model Inference Usage \n",
    "\n",
    "Databricks has the ability to host and deploy serverless model endpoints for highly available and cost effective REST APIs. Endpoints can scale all the way down to zero and quickly come up to provide a response to the end user optimizing experience and spend. Let's keep and eye on how many models we have deployed the the usage of those models. "
   ]
  },
  {
   "cell_type": "code",
   "execution_count": 0,
   "metadata": {
    "application/vnd.databricks.v1+cell": {
     "cellMetadata": {},
     "inputWidgets": {},
     "nuid": "69a9810b-40eb-438c-95f8-c8da83f3c12d",
     "showTitle": false,
     "tableResultSettingsMap": {},
     "title": ""
    }
   },
   "outputs": [],
   "source": [
    "select\n",
    "  u.account_id,\n",
    "  u.workspace_id,\n",
    "  u.sku_name,\n",
    "  u.cloud,\n",
    "  u.usage_start_time,\n",
    "  u.usage_end_time,\n",
    "  u.usage_date,\n",
    "  date_format(u.usage_date, 'yyyy-MM') as YearMonth,\n",
    "  u.usage_unit,\n",
    "  u.usage_quantity,\n",
    "  lp.pricing.default as list_price,\n",
    "  lp.pricing.default * u.usage_quantity as list_cost,\n",
    "  u.custom_tags.Team, -- parse out custom tags if available\n",
    "  u.usage_metadata.*\n",
    "from\n",
    "  system.billing.usage u \n",
    "  inner join system.billing.list_prices lp on u.cloud = lp.cloud and\n",
    "    u.sku_name = lp.sku_name and\n",
    "    u.usage_start_time >= lp.price_start_time \n",
    "where\n",
    "  contains(u.sku_name, 'INFERENCE')"
   ]
  },
  {
   "cell_type": "markdown",
   "metadata": {
    "application/vnd.databricks.v1+cell": {
     "cellMetadata": {},
     "inputWidgets": {},
     "nuid": "52a568cd-d9ec-4525-998d-4f59b97cce24",
     "showTitle": false,
     "tableResultSettingsMap": {},
     "title": ""
    }
   },
   "source": [
    "\n",
    "## Next: leverage Databricks Lakehouse AI capabilities to forecast your billing\n",
    "\n",
    "Let's create a new table to extend our billing dataset with forecasting and alerting capabilities.\n",
    "\n",
    "We'll train a custom model for each Workspace and SKU, predicting the consumption for the next quarter.\n",
    "\n",
    "Open the [02-forecast-billing-tables notebook]($./02-forecast-billing-tables) to train your model."
   ]
  }
 ],
 "metadata": {
  "application/vnd.databricks.v1+notebook": {
   "computePreferences": null,
   "dashboards": [],
   "environmentMetadata": {
    "environment_version": "2"
   },
   "inputWidgetPreferences": null,
   "language": "sql",
   "notebookMetadata": {
    "pythonIndentUnit": 2
   },
   "notebookName": "01-billing-tables-overview",
   "widgets": {}
  },
  "language_info": {
   "name": "sql"
  }
 },
 "nbformat": 4,
 "nbformat_minor": 0
}
