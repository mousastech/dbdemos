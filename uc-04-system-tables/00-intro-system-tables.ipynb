{
 "cells": [
  {
   "cell_type": "markdown",
   "metadata": {
    "application/vnd.databricks.v1+cell": {
     "cellMetadata": {},
     "inputWidgets": {},
     "nuid": "190de483-4872-4337-a124-baa946845a5d",
     "showTitle": false,
     "tableResultSettingsMap": {},
     "title": ""
    }
   },
   "source": [
    "\n",
    "# Introduction to Databricks System Tables \n",
    "\n",
    "<img src=\"https://github.com/databricks-demos/dbdemos-resources/blob/main/images/product/uc/system_tables/uc-system-tables-explorer.png?raw=true\" style=\"float: right; margin: 10px 0px 0px 20px\" width=\"700px\" />\n",
    "\n",
    "System Tables are a Databricks-hosted analytical store for operational and usage data. \n",
    "\n",
    "System Tables can be used for monitoring, analyzing performance, usage, and behavior of Databricks Platform components. By querying these tables, users can gain insights into how their jobs, notebooks, users, clusters, ML endpoints, and SQL warehouses are functioning and changing over time. This historical data can be used to optimize performance, troubleshoot issues, track usage patterns, and make data-driven decisions.\n",
    "\n",
    "Overall, System Tables provide a means to enhance observability and gain valuable insights into the operational aspects of Databricks usage, enabling users to better understand and manage their workflows and resources.\n",
    "- Cost and usage analytics \n",
    "- Efficiency analytics \n",
    "- Audit analytics \n",
    "- GDPR regulation\n",
    "- Service Level Objective analytics \n",
    "- Data Quality analytics \n",
    "\n",
    "<!-- Collect usage data (view). Remove it to disable collection or disable tracker during installation. View README for more details.  -->\n",
    "<img width=\"1px\" src=\"https://ppxrzfxige.execute-api.us-west-2.amazonaws.com/v1/analytics?category=governance&org_id=1444828305810485&notebook=%2F00-intro-system-tables&demo_name=uc-04-system-tables&event=VIEW&path=%2F_dbdemos%2Fgovernance%2Fuc-04-system-tables%2F00-intro-system-tables&version=1&user_hash=ddf348067415027dc6243f8b145629a2bf969356f50e695cd9fcf1cc18a6c40d\">"
   ]
  },
  {
   "cell_type": "markdown",
   "metadata": {
    "application/vnd.databricks.v1+cell": {
     "cellMetadata": {},
     "inputWidgets": {},
     "nuid": "3baaed7f-20c7-43be-a3bb-ec7657ce4a89",
     "showTitle": false,
     "tableResultSettingsMap": {},
     "title": ""
    }
   },
   "source": [
    "\n",
    "## Accessing your System tables With Unity Catalog \n",
    "\n",
    "System Tables are available to customers who have Unity Catalog activated in at least one workspace. The data provided is collected from all workspaces in a Databricks account, regardless of the workspace's status with Unity Catalog. For example, if I have 10 workspaces and only one of them have Unity Catalog enabled then data is collected for all the workspaces and is made available via the single workspace in which Unity Catalog is active. \n",
    "\n",
    "### Enabling all system tables\n",
    "All systems tables are not enabled by default. As an account admin, you can review the [_enable_system_tables]($./_enable_system_tables) notebook to enable them all."
   ]
  },
  {
   "cell_type": "markdown",
   "metadata": {
    "application/vnd.databricks.v1+cell": {
     "cellMetadata": {},
     "inputWidgets": {},
     "nuid": "31cf0de0-a940-4dae-899a-92cee5ed5009",
     "showTitle": false,
     "tableResultSettingsMap": {},
     "title": ""
    }
   },
   "source": [
    "## Ask Genie insights on your Databricks usage through system tables\n",
    "\n",
    "<img src=\"https://www.databricks.com/en-website-assets/static/a79b404a64dd94cb4028d31a8950b9a0/intro-genie-web1_0-1717676868.gif\" style=\"float: right; margin: 10px\" width=\"500px\">\n",
    "\n",
    "DBDemos installed a Genie Space for you, ready to answer your System Table questions in plain english!\n",
    "\n",
    "The Genie space is ready with some example / instructions to improve your Q&A experience! <br/>\n",
    "Feel free to open an issue in our [dbdemos git repository](https://github.com/databricks-demos/dbdemos) if you can't find the answer you're looking for, we'll improve it over time!\n",
    "\n",
    "Open the <a dbdemos-genie-id=\"system-tables\" href='/genie/rooms/01f04ac4e727118c9d432dbaea7fee88' target=\"_blank\">System Table Genie space to deep dive into your system table data</a>"
   ]
  },
  {
   "cell_type": "markdown",
   "metadata": {
    "application/vnd.databricks.v1+cell": {
     "cellMetadata": {},
     "inputWidgets": {},
     "nuid": "c9e0ed2e-5035-4a54-bb2c-464c15a0b9fc",
     "showTitle": false,
     "tableResultSettingsMap": {},
     "title": ""
    }
   },
   "source": [
    "## System Table Dashboard - Leverage AI with Lakehouse\n",
    "\n",
    "<img src=\"https://github.com/databricks-demos/dbdemos-resources/blob/main/images/product/uc/system_tables/dashboard-governance-billing.png?raw=true\" width=\"600px\" style=\"float:right\">\n",
    "\n",
    "We installed a Dashboard to track your billing and Unity Catalog usage leveraging the System tables.\n",
    "\n",
    "[Open the dashboard](/sql/dashboards/ab3b5298-e09e-4998-8ef3-ae456a7b888d) to review the informations available for you.<br/><br/>\n",
    "\n",
    "### A note on Forecasting billing usage\n",
    "\n",
    "Please note that this dashboard forecasts your usage to predict your future spend and trigger potential alerts.\n",
    "\n",
    "To do so, we train multiple ML models leveraging `prophet` (the timeseries forecasting library). <br/>\n",
    "**Make sure you run the `01-billing-tables/02-forecast-billing-tables` notebook to generate the forecast data.** <br/>\n",
    "If you don't, data won't be available in the dashboard. `dbdemos` started a job in the background to initialize this data, but you can also directly run the notebook. \n",
    "\n",
    "*For production-grade tracking, make sure you run your forecasting notebook as a job every day.*"
   ]
  },
  {
   "cell_type": "markdown",
   "metadata": {
    "application/vnd.databricks.v1+cell": {
     "cellMetadata": {},
     "inputWidgets": {},
     "nuid": "c4bd15cb-8ee3-4761-9065-9fe31685bfb9",
     "showTitle": false,
     "tableResultSettingsMap": {},
     "title": ""
    }
   },
   "source": [
    "\n",
    "## Billing tables\n",
    "\n",
    "Billing table contains all the information required to track and analyze your consumption in DBU (Databricks Unit) and by extension $USD. \n",
    "\n",
    "* To get started with the billing sytem tables, open the [01-billing-tables notebook]($./01-billing-tables/01-billing-tables-overview) to see how to explore your billing data\n",
    "* Leverage the Lakehouse capabilities to forecast your spend: open [02-forecast-billing-tables]($./01-billing-tables/02-forecast-billing-tables).\n"
   ]
  },
  {
   "cell_type": "code",
   "execution_count": 0,
   "metadata": {
    "application/vnd.databricks.v1+cell": {
     "cellMetadata": {},
     "inputWidgets": {},
     "nuid": "969e72d1-f805-4531-89d7-429dd7b0a703",
     "showTitle": true,
     "tableResultSettingsMap": {},
     "title": "Billing usage overview"
    }
   },
   "outputs": [],
   "source": [
    "select * from system.billing.usage limit 10"
   ]
  },
  {
   "cell_type": "markdown",
   "metadata": {
    "application/vnd.databricks.v1+cell": {
     "cellMetadata": {},
     "inputWidgets": {},
     "nuid": "7d32c1cd-4997-4443-8166-74a9a40ec0c9",
     "showTitle": false,
     "tableResultSettingsMap": {},
     "title": ""
    }
   },
   "source": [
    "\n",
    "## Audit Logs\n",
    "\n",
    "The audit log tables let you track and monitor all operations within your Lakehouse\n",
    "\n",
    "You can get information to understand your usage and diagnostic operations such as finding when a table was deleted, created...\n",
    "\n",
    "Open the [02-audit-log notebook]($./02-audit-logs-tables/02-audit-log) to explore your audit logs.\n"
   ]
  },
  {
   "cell_type": "code",
   "execution_count": 0,
   "metadata": {
    "application/vnd.databricks.v1+cell": {
     "cellMetadata": {},
     "inputWidgets": {},
     "nuid": "49de9dfb-ea71-46b5-a313-967596110934",
     "showTitle": true,
     "tableResultSettingsMap": {},
     "title": "Audit log overview"
    }
   },
   "outputs": [],
   "source": [
    "select * from system.access.audit limit 10"
   ]
  },
  {
   "cell_type": "markdown",
   "metadata": {
    "application/vnd.databricks.v1+cell": {
     "cellMetadata": {},
     "inputWidgets": {},
     "nuid": "4a223696-c50c-4145-8481-f11ef3c87bea",
     "showTitle": false,
     "tableResultSettingsMap": {},
     "title": ""
    }
   },
   "source": [
    "\n",
    "## Lineage\n",
    "\n",
    "Lineage tables let you track and monitor all lineage around your data assets.\n",
    "\n",
    "You can track at a Table and Column level to find dependencies and understand what your table is using including Workflows, SQL Queries, Dashboards, Notebooks...\n",
    "\n",
    "This information is available directly within the Data Explorer UI, but also saved as system table to simplify automated analysis.\n",
    "\n",
    "Open the [03-lineage notebook]($./03-lineage-tables/03-lineage) to explore your audit logs.\n"
   ]
  },
  {
   "cell_type": "code",
   "execution_count": 0,
   "metadata": {
    "application/vnd.databricks.v1+cell": {
     "cellMetadata": {},
     "inputWidgets": {},
     "nuid": "e999a338-314e-46b9-b1a9-7e894e0e4325",
     "showTitle": true,
     "tableResultSettingsMap": {},
     "title": "Lineage tables overview"
    }
   },
   "outputs": [],
   "source": [
    "SELECT * FROM system.access.table_lineage limit 10"
   ]
  },
  {
   "cell_type": "markdown",
   "metadata": {
    "application/vnd.databricks.v1+cell": {
     "cellMetadata": {},
     "inputWidgets": {},
     "nuid": "173aa56e-2fdb-45b6-99a0-5e168b81d16a",
     "showTitle": false,
     "tableResultSettingsMap": {},
     "title": ""
    }
   },
   "source": [
    "## Conclusion\n",
    "\n",
    "With Unity Catalog System tables, you can easily monitor and exploit all your Lakehouse operations, from Audit Logs, Lineage up to Billing forecast.\n",
    "\n",
    "More system tables will be released soon, this demo will be updated accordingly, stay tuned!"
   ]
  }
 ],
 "metadata": {
  "application/vnd.databricks.v1+notebook": {
   "computePreferences": null,
   "dashboards": [],
   "environmentMetadata": {
    "environment_version": "2"
   },
   "inputWidgetPreferences": null,
   "language": "sql",
   "notebookMetadata": {
    "pythonIndentUnit": 2
   },
   "notebookName": "00-intro-system-tables",
   "widgets": {}
  },
  "language_info": {
   "name": "sql"
  }
 },
 "nbformat": 4,
 "nbformat_minor": 0
}
