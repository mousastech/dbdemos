{
 "cells": [
  {
   "cell_type": "markdown",
   "metadata": {
    "application/vnd.databricks.v1+cell": {
     "cellMetadata": {},
     "inputWidgets": {},
     "nuid": "e620fb40-624c-452c-9ece-cecfa43b0e4b",
     "showTitle": false,
     "tableResultSettingsMap": {},
     "title": ""
    }
   },
   "source": [
    "# Audit Logs with Databricks Unity Catalog System Tables\n",
    "\n",
    "Databricks tracks all operations across our Lakehouse. This is key for governance and being able to analyze your Lakehouse usage.\n",
    "\n",
    "This is made possible with the `system.access.audit` table. \n",
    "\n",
    "This table contains all informations to answer questions such as:\n",
    "\n",
    "- All operation executed in your account and workspaces\n",
    "- Which operations are executed against your Unity Catalog objects\n",
    "- Who is accessing what\n",
    "- Who and When a table was deleted\n",
    "- Monitor critical table access\n",
    "- ...\n",
    "\n",
    "## Audit Logs table\n",
    "\n",
    "The `audit_logs` table has the following columns: \n",
    "- version\n",
    "- event_time\n",
    "- event_date\n",
    "- event_id\n",
    "- workspace_id\n",
    "- source_ip_address\n",
    "- user_agent\n",
    "- session_id\n",
    "- user_identity\n",
    "- service_name \n",
    "- action_name\n",
    "- request_id\n",
    "- request_params\n",
    "- response\n",
    "- audit_level\n",
    "- account_id\n",
    "\n",
    "Audit logs give you the ability to see what users are doing within Databricks. They allow you to see the actions users have taken, such as editing or triggering a job and when it occured. \n",
    "\n",
    "## Query example \n",
    "\n",
    "The following queries are some example of audit analysis that you can perform.\n",
    "\n",
    "Make sure you have read access to the system catalog to be able to run the following queries (by default available to admin metastore).\n",
    "\n",
    "<!-- Collect usage data (view). Remove it to disable collection or disable tracker during installation. View README for more details.  -->\n",
    "<img width=\"1px\" src=\"https://ppxrzfxige.execute-api.us-west-2.amazonaws.com/v1/analytics?category=governance&org_id=1444828305810485&notebook=%2F02-audit-logs-tables%2F02-audit-log&demo_name=uc-04-system-tables&event=VIEW&path=%2F_dbdemos%2Fgovernance%2Fuc-04-system-tables%2F02-audit-logs-tables%2F02-audit-log&version=1&user_hash=ddf348067415027dc6243f8b145629a2bf969356f50e695cd9fcf1cc18a6c40d\">"
   ]
  },
  {
   "cell_type": "code",
   "execution_count": 0,
   "metadata": {
    "application/vnd.databricks.v1+cell": {
     "cellMetadata": {},
     "inputWidgets": {},
     "nuid": "71af9a96-425a-4412-8610-83ab631b1fff",
     "showTitle": true,
     "tableResultSettingsMap": {},
     "title": "Review audit log table"
    }
   },
   "outputs": [],
   "source": [
    "select * from system.access.audit"
   ]
  },
  {
   "cell_type": "code",
   "execution_count": 0,
   "metadata": {
    "application/vnd.databricks.v1+cell": {
     "cellMetadata": {},
     "inputWidgets": {},
     "nuid": "83a8e37c-8067-48e1-a50c-291f244753bc",
     "showTitle": true,
     "tableResultSettingsMap": {},
     "title": "Review all services being tracked as audit log"
    }
   },
   "outputs": [],
   "source": [
    "select distinct(service_name) from system.access.audit"
   ]
  },
  {
   "cell_type": "code",
   "execution_count": 0,
   "metadata": {
    "application/vnd.databricks.v1+cell": {
     "cellMetadata": {},
     "inputWidgets": {},
     "nuid": "4674c88a-d6e5-4b95-8c57-9597825925a7",
     "showTitle": true,
     "tableResultSettingsMap": {},
     "title": "List Unity Catalog actions"
    }
   },
   "outputs": [],
   "source": [
    "select\n",
    "  count(*) as action_count,\n",
    "  action_name\n",
    "from\n",
    "  system.access.audit\n",
    "where\n",
    "  service_name = 'unityCatalog'\n",
    "group by\n",
    "  action_name\n",
    "order by\n",
    "  action_count desc;"
   ]
  },
  {
   "cell_type": "code",
   "execution_count": 0,
   "metadata": {
    "application/vnd.databricks.v1+cell": {
     "cellMetadata": {},
     "inputWidgets": {},
     "nuid": "6646102e-56da-40a2-b682-9c14f49bd69c",
     "showTitle": true,
     "tableResultSettingsMap": {},
     "title": "List table access"
    }
   },
   "outputs": [],
   "source": [
    "SELECT\n",
    "  *\n",
    "FROM\n",
    "  system.access.audit\n",
    "WHERE\n",
    "  service_name = 'unityCatalog'\n",
    "  AND action_name = \"getTable\"\n",
    "LIMIT\n",
    "  100;"
   ]
  },
  {
   "cell_type": "code",
   "execution_count": 0,
   "metadata": {
    "application/vnd.databricks.v1+cell": {
     "cellMetadata": {},
     "inputWidgets": {},
     "nuid": "612ef46f-334b-4a60-b7a8-3e795b6c5566",
     "showTitle": true,
     "tableResultSettingsMap": {},
     "title": "User permissions being changed(assigned/removed/modified) on the data objects(schemas/tables) across a workspace or group of workspaces"
    }
   },
   "outputs": [],
   "source": [
    "SELECT\n",
    "  event_time,\n",
    "  action_name,\n",
    "  user_identity.email as requester,\n",
    "  request_params,\n",
    "  *\n",
    "FROM\n",
    "  system.access.audit\n",
    "WHERE\n",
    "  action_name IN ('updatePermissions', 'updateSharePermissions')\n",
    "  AND audit_level = 'ACCOUNT_LEVEL'\n",
    "  AND service_name = 'unityCatalog'\n",
    "ORDER BY\n",
    "  action_name,\n",
    "  event_time\n",
    "limit\n",
    "  1000;"
   ]
  },
  {
   "cell_type": "code",
   "execution_count": 0,
   "metadata": {
    "application/vnd.databricks.v1+cell": {
     "cellMetadata": {},
     "inputWidgets": {},
     "nuid": "34b70a38-8c44-4361-b02e-4ca352c0f4c4",
     "showTitle": true,
     "tableResultSettingsMap": {},
     "title": "Any add/update/delete actions to Catalog (find details on item creation/deletion)"
    }
   },
   "outputs": [],
   "source": [
    "SELECT\n",
    "  event_time,\n",
    "  action_name,\n",
    "  user_identity.email as requester,\n",
    "  request_params,\n",
    "  *\n",
    "FROM\n",
    "  system.access.audit\n",
    "WHERE\n",
    "  action_name IN (\n",
    "    'createCatalog',\n",
    "    'deleteCatalog',\n",
    "    'updateCatalog'\n",
    "  )\n",
    "  AND audit_level = 'ACCOUNT_LEVEL'\n",
    "  AND service_name = 'unityCatalog'\n",
    "ORDER BY\n",
    "  action_name,\n",
    "  event_time"
   ]
  },
  {
   "cell_type": "markdown",
   "metadata": {
    "application/vnd.databricks.v1+cell": {
     "cellMetadata": {},
     "inputWidgets": {},
     "nuid": "273816d9-d199-4e8f-a722-858c83fee459",
     "showTitle": false,
     "tableResultSettingsMap": {},
     "title": ""
    }
   },
   "source": [
    "### External Locations \n",
    "External locations are a common way to load data from cloud object storage into Databricks tables. They can also be used for writing data out of Databricks for external processes. We want to ensure that data is being used properly and is not exfiltrating outside our doman. Let's see how many external locations are being created over time and which ones are the most used. "
   ]
  },
  {
   "cell_type": "code",
   "execution_count": 0,
   "metadata": {
    "application/vnd.databricks.v1+cell": {
     "cellMetadata": {},
     "inputWidgets": {},
     "nuid": "782deaa5-cae3-4957-b04c-4899019eceaa",
     "showTitle": false,
     "tableResultSettingsMap": {},
     "title": ""
    }
   },
   "outputs": [],
   "source": [
    "-- created external locations\n",
    "-- monitor possible data exfilltration\n",
    "select\n",
    "  event_time,\n",
    "  event_date,\n",
    "  date_format(event_date, 'yyyy-MM') AS year_month,\n",
    "  user_identity.email as user_email,\n",
    "  service_name,\n",
    "  action_name,\n",
    "  request_id,\n",
    "  request_params.name as external_location_name,\n",
    "  request_params.skip_validation,\n",
    "  request_params.credential_name,\n",
    "  request_params.url,\n",
    "  request_params.workspace_id,\n",
    "  request_params.metastore_id,\n",
    "  response.status_code\n",
    "from\n",
    "  system.access.audit\n",
    "where\n",
    "  action_name = 'createExternalLocation'"
   ]
  },
  {
   "cell_type": "code",
   "execution_count": 0,
   "metadata": {
    "application/vnd.databricks.v1+cell": {
     "cellMetadata": {},
     "inputWidgets": {},
     "nuid": "f27fe9fb-c6bc-4cc9-851f-bd3b3425542a",
     "showTitle": false,
     "tableResultSettingsMap": {},
     "title": ""
    }
   },
   "outputs": [],
   "source": [
    "-- most used external locations\n",
    "select\n",
    "  event_time,\n",
    "  event_date,\n",
    "  date_format(event_date, 'yyyy-MM') AS year_month,\n",
    "  user_identity.email as user_email,\n",
    "  service_name,\n",
    "  action_name,\n",
    "  request_id,\n",
    "  request_params,\n",
    "  request_params.name_arg as external_location_name,\n",
    "  request_params.workspace_id,\n",
    "  request_params.metastore_id,\n",
    "  response.status_code\n",
    "from\n",
    "  system.access.audit\n",
    "where\n",
    "  action_name = 'getExternalLocation'"
   ]
  },
  {
   "cell_type": "markdown",
   "metadata": {
    "application/vnd.databricks.v1+cell": {
     "cellMetadata": {},
     "inputWidgets": {},
     "nuid": "d01d1d2b-c4e4-4561-a0de-65c3ad5bda49",
     "showTitle": false,
     "tableResultSettingsMap": {},
     "title": ""
    }
   },
   "source": [
    "### Users \n",
    "\n",
    "An important KPI for any platform team administering Databricks is the number of users that they are supporting. This allows admins to quantify the impact is developer productivity and importance to the organization.  "
   ]
  },
  {
   "cell_type": "code",
   "execution_count": 0,
   "metadata": {
    "application/vnd.databricks.v1+cell": {
     "cellMetadata": {},
     "inputWidgets": {},
     "nuid": "f5433bb7-5194-48b7-87d3-532b5a9b0e6c",
     "showTitle": true,
     "tableResultSettingsMap": {},
     "title": "Daily and Monthly Active Users"
    }
   },
   "outputs": [],
   "source": [
    "select\n",
    "  distinct event_date as `Date`,\n",
    "  date_format(event_date, 'yyyy-MM') AS year_month,\n",
    "  workspace_id,\n",
    "  user_identity.email as user_email\n",
    "from\n",
    "  system.access.audit"
   ]
  },
  {
   "cell_type": "code",
   "execution_count": 0,
   "metadata": {
    "application/vnd.databricks.v1+cell": {
     "cellMetadata": {},
     "inputWidgets": {},
     "nuid": "52288bfb-e458-480b-9a74-42fa179e55bc",
     "showTitle": true,
     "tableResultSettingsMap": {},
     "title": " User Groups being deleted from UC console and at individual workspace level – who deleted(userid/SP), when & where"
    }
   },
   "outputs": [],
   "source": [
    "SELECT\n",
    "  event_time,\n",
    "  action_name,\n",
    "  user_identity.email as requester,\n",
    "  request_params.targetGroupId as deleted_group_id,\n",
    "  CASE\n",
    "    WHEN audit_level = 'ACCOUNT_LEVEL' THEN 'deleted from account console'\n",
    "    WHEN audit_level = 'WORKSPACE_LEVEL' THEN 'deleted from workspace'\n",
    "  END AS scenario,\n",
    "  *\n",
    "FROM\n",
    "  system.access.audit\n",
    "WHERE\n",
    "  action_name = 'removeGroup' --AND request_params.targetGroupId IS NOT NULL\n",
    "  AND audit_level IN ('ACCOUNT_LEVEL', 'WORKSPACE_LEVEL')\n",
    "  AND service_name = 'accounts'\n",
    "ORDER BY\n",
    "  audit_level,\n",
    "  event_time;"
   ]
  },
  {
   "cell_type": "code",
   "execution_count": 0,
   "metadata": {
    "application/vnd.databricks.v1+cell": {
     "cellMetadata": {},
     "inputWidgets": {},
     "nuid": "c9060996-1d8c-42f8-8c92-da2e1a7564f7",
     "showTitle": true,
     "tableResultSettingsMap": {},
     "title": "List users added as metastore admin"
    }
   },
   "outputs": [],
   "source": [
    "-- Metastore admin assigned for UC - when and who(userid) changed\n",
    "SELECT\n",
    "  event_time,\n",
    "  action_name,\n",
    "  user_identity.email AS requester,\n",
    "  request_params.`owner` AS new_metastore_owner_admin,\n",
    "  *\n",
    "FROM\n",
    "  system.access.audit\n",
    "WHERE\n",
    "  action_name = 'updateMetastore'\n",
    "  AND request_params.`owner` IS NOT NULL\n",
    "  AND audit_level = 'ACCOUNT_LEVEL'\n",
    "  AND service_name = 'unityCatalog'\n",
    "ORDER BY\n",
    "  event_time\n",
    "LIMIT\n",
    "  100;"
   ]
  }
 ],
 "metadata": {
  "application/vnd.databricks.v1+notebook": {
   "computePreferences": null,
   "dashboards": [],
   "environmentMetadata": {
    "environment_version": "2"
   },
   "inputWidgetPreferences": null,
   "language": "sql",
   "notebookMetadata": {
    "pythonIndentUnit": 2
   },
   "notebookName": "02-audit-log",
   "widgets": {}
  },
  "language_info": {
   "name": "sql"
  }
 },
 "nbformat": 4,
 "nbformat_minor": 0
}
