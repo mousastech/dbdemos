{
 "cells": [
  {
   "cell_type": "markdown",
   "metadata": {
    "application/vnd.databricks.v1+cell": {
     "cellMetadata": {},
     "inputWidgets": {},
     "nuid": "66d6c263-6467-4f1c-a476-3e91a5373f59",
     "showTitle": false,
     "tableResultSettingsMap": {},
     "title": ""
    }
   },
   "source": [
    "#Programatically enabling system tables for Databricks\n",
    "Since system tables are governed by Unity Catalog, you need at least one Unity Catalog-governed workspace in your account to enable system tables. That way you can map your system tables to the Unity Catalog metastore. System tables must be enabled by an **account admin**. You can enable system tables in your account using the Databricks CLI, the Databricks SDK for Python, or by calling the Unity Catalog API in a notebook.\n",
    "<br>\n",
    "<br>\n",
    "You can enable system tables using API calls or directly in a Databricks notebook (such as this example). Please refer to the documentation for your cloud for further details ([AWS](https://docs.databricks.com/administration-guide/system-tables/index.html) | [Azure](https://learn.microsoft.com/en-us/azure/databricks/administration-guide/system-tables/))\n",
    "\n",
    "\n",
    "**Running this notebook will enable the system tables and you will see them in your system catalog.**\n",
    "\n",
    "\n",
    "<!-- Collect usage data (view). Remove it to disable collection or disable tracker during installation. View README for more details.  -->\n",
    "<img width=\"1px\" src=\"https://ppxrzfxige.execute-api.us-west-2.amazonaws.com/v1/analytics?category=governance&org_id=1444828305810485&notebook=%2F_enable_system_tables&demo_name=uc-04-system-tables&event=VIEW&path=%2F_dbdemos%2Fgovernance%2Fuc-04-system-tables%2F_enable_system_tables&version=1&user_hash=ddf348067415027dc6243f8b145629a2bf969356f50e695cd9fcf1cc18a6c40d\">"
   ]
  },
  {
   "cell_type": "markdown",
   "metadata": {
    "application/vnd.databricks.v1+cell": {
     "cellMetadata": {},
     "inputWidgets": {},
     "nuid": "880c114e-d20e-442c-9a0e-31556b3dbdec",
     "showTitle": false,
     "tableResultSettingsMap": {},
     "title": ""
    }
   },
   "source": [
    "### Creating the widget to be used as input for the metastore ID\n",
    "The metastore ID can be found by clicking on the metastore details icon present in the `Data` tab of your Databricks workspace.\n",
    "![metastore_id_image](./images/metastore_id.png)"
   ]
  },
  {
   "cell_type": "code",
   "execution_count": 0,
   "metadata": {
    "application/vnd.databricks.v1+cell": {
     "cellMetadata": {},
     "inputWidgets": {},
     "nuid": "91bf7028-8146-46d0-aa5f-0ecb20ce3acb",
     "showTitle": false,
     "tableResultSettingsMap": {},
     "title": ""
    }
   },
   "outputs": [],
   "source": [
    "%pip install databricks-sdk==0.30.0\n",
    "dbutils.library.restartPython()"
   ]
  },
  {
   "cell_type": "code",
   "execution_count": 0,
   "metadata": {
    "application/vnd.databricks.v1+cell": {
     "cellMetadata": {},
     "inputWidgets": {},
     "nuid": "15329ed0-82e8-4f3b-868b-890975c918b5",
     "showTitle": true,
     "tableResultSettingsMap": {},
     "title": "Get current Metastore ID"
    }
   },
   "outputs": [],
   "source": [
    "metastore_id = spark.sql(\"SELECT current_metastore() as metastore_id\").collect()[0][\"metastore_id\"]\n",
    "metastore_id = metastore_id[metastore_id.rfind(':')+1:]\n",
    "dbutils.widgets.removeAll()"
   ]
  },
  {
   "cell_type": "code",
   "execution_count": 0,
   "metadata": {
    "application/vnd.databricks.v1+cell": {
     "cellMetadata": {},
     "inputWidgets": {},
     "nuid": "46d68fe1-f972-439b-b835-f4cc43eb7013",
     "showTitle": true,
     "tableResultSettingsMap": {},
     "title": "Create widget and assign default Metastore ID"
    }
   },
   "outputs": [],
   "source": [
    "dbutils.widgets.text(\"metastore_id\", metastore_id, \"Metastore ID\")\n",
    "metastore_id = dbutils.widgets.get(\"metastore_id\")"
   ]
  },
  {
   "cell_type": "markdown",
   "metadata": {
    "application/vnd.databricks.v1+cell": {
     "cellMetadata": {},
     "inputWidgets": {},
     "nuid": "090cf44a-ab86-49b4-8adc-8b5cf94fcde3",
     "showTitle": false,
     "tableResultSettingsMap": {},
     "title": ""
    }
   },
   "source": [
    "### Enabling schemas\n",
    "Use Python SDK and the workspace client to authenticate, identify available schemas, and enable those schemas"
   ]
  },
  {
   "cell_type": "code",
   "execution_count": 0,
   "metadata": {
    "application/vnd.databricks.v1+cell": {
     "cellMetadata": {},
     "inputWidgets": {},
     "nuid": "ee2f8c8c-7976-43e6-a732-f822019d56dc",
     "showTitle": true,
     "tableResultSettingsMap": {},
     "title": "Enable schemas"
    }
   },
   "outputs": [],
   "source": [
    "from databricks.sdk import WorkspaceClient\n",
    "\n",
    "w = WorkspaceClient()\n",
    "\n",
    "system_schemas = w.system_schemas.list(metastore_id=metastore_id)\n",
    "\n",
    "for system_schema in system_schemas:\n",
    "    if system_schema.state.value == 'AVAILABLE' and \"__internal\" not in system_schema.schema:\n",
    "        print(f'Enabling system schema \"{system_schema.schema}\"')\n",
    "        w.system_schemas.enable(metastore_id=metastore_id, schema_name=system_schema.schema)"
   ]
  }
 ],
 "metadata": {
  "application/vnd.databricks.v1+notebook": {
   "computePreferences": null,
   "dashboards": [],
   "environmentMetadata": {
    "environment_version": "2"
   },
   "inputWidgetPreferences": null,
   "language": "python",
   "notebookMetadata": {
    "pythonIndentUnit": 2
   },
   "notebookName": "_enable_system_tables",
   "widgets": {}
  },
  "language_info": {
   "name": "python"
  }
 },
 "nbformat": 4,
 "nbformat_minor": 0
}
