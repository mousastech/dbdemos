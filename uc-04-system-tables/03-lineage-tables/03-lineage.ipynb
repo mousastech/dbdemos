{
 "cells": [
  {
   "cell_type": "markdown",
   "metadata": {
    "application/vnd.databricks.v1+cell": {
     "cellMetadata": {},
     "inputWidgets": {},
     "nuid": "7e22448b-229e-487b-bb27-d3a1eb7ffe72",
     "showTitle": false,
     "tableResultSettingsMap": {},
     "title": ""
    }
   },
   "source": [
    "# Lineage with Databricks Unity Catalog System Tables\n",
    "\n",
    "Databricks tracks lineage across all your Unity Catalog items.\n",
    "\n",
    "Databricks Lineage is available from the [Data Explorer UI](/explore/data), where you can analyze your graph.\n",
    "\n",
    "This contains information on downstream (where the data is coming from) and upstream (who is using it) from all items:\n",
    "\n",
    "- Tables\n",
    "- Queries\n",
    "- Dashboards\n",
    "- Jobs\n",
    "- ML/AI\n",
    "- ...\n",
    "\n",
    "For more details, open this recording to <a href=\"https://app.getreprise.com/launch/MnqjQDX\" target=\"_blank\">discover Unity Catalog from the UI</a>\n",
    "\n",
    "## Table and Column lineage\n",
    "\n",
    "Unity Catalog track the lineage at 2 levels:\n",
    "\n",
    "* Column level\n",
    "* Table level\n",
    "\n",
    "\n",
    "## Query example \n",
    "\n",
    "The following queries are some example that you can run to explore the lineage.\n",
    "\n",
    "Make sure you have read access to the system catalog to be able to run the following queries (by default available to admin metastore).\n",
    "\n",
    "<!-- Collect usage data (view). Remove it to disable collection or disable tracker during installation. View README for more details.  -->\n",
    "<img width=\"1px\" src=\"https://ppxrzfxige.execute-api.us-west-2.amazonaws.com/v1/analytics?category=governance&org_id=1444828305810485&notebook=%2F03-lineage-tables%2F03-lineage&demo_name=uc-04-system-tables&event=VIEW&path=%2F_dbdemos%2Fgovernance%2Fuc-04-system-tables%2F03-lineage-tables%2F03-lineage&version=1&user_hash=ddf348067415027dc6243f8b145629a2bf969356f50e695cd9fcf1cc18a6c40d\">"
   ]
  },
  {
   "cell_type": "code",
   "execution_count": 0,
   "metadata": {
    "application/vnd.databricks.v1+cell": {
     "cellMetadata": {},
     "inputWidgets": {},
     "nuid": "b7de059f-f6cd-4412-a85d-2a8e48de5cc4",
     "showTitle": false,
     "tableResultSettingsMap": {},
     "title": ""
    }
   },
   "outputs": [],
   "source": [
    "SHOW TABLES IN system.access"
   ]
  },
  {
   "cell_type": "code",
   "execution_count": 0,
   "metadata": {
    "application/vnd.databricks.v1+cell": {
     "cellMetadata": {},
     "inputWidgets": {},
     "nuid": "d250b5ed-4ac0-4429-8f4d-4aa84503c9a6",
     "showTitle": false,
     "tableResultSettingsMap": {},
     "title": ""
    }
   },
   "outputs": [],
   "source": [
    "SELECT * FROM system.access.table_lineage"
   ]
  },
  {
   "cell_type": "code",
   "execution_count": 0,
   "metadata": {
    "application/vnd.databricks.v1+cell": {
     "cellMetadata": {},
     "inputWidgets": {},
     "nuid": "98f4d34b-2476-46a6-872d-1755b6881dc5",
     "showTitle": true,
     "tableResultSettingsMap": {},
     "title": "Review all entities accessing your table (workflows, notebook, DLT, DBSQL...)"
    }
   },
   "outputs": [],
   "source": [
    "SELECT DISTINCT(entity_type) FROM system.access.table_lineage"
   ]
  },
  {
   "cell_type": "markdown",
   "metadata": {
    "application/vnd.databricks.v1+cell": {
     "cellMetadata": {},
     "inputWidgets": {},
     "nuid": "9a1db0af-a6f5-42b0-9717-fa059a2de2a4",
     "showTitle": false,
     "tableResultSettingsMap": {},
     "title": ""
    }
   },
   "source": [
    "## Column-level lineage information\n",
    "\n",
    "Unity Catalog also tracks all informations at a column level.\n",
    "\n",
    "This is useful to track downstream dependencies and evaluate potential data change impact, including GDPR implication."
   ]
  },
  {
   "cell_type": "code",
   "execution_count": 0,
   "metadata": {
    "application/vnd.databricks.v1+cell": {
     "cellMetadata": {},
     "inputWidgets": {},
     "nuid": "62f2f7ea-1dc9-4417-91e7-fdfebfeaeec5",
     "showTitle": false,
     "tableResultSettingsMap": {},
     "title": ""
    }
   },
   "outputs": [],
   "source": [
    "SELECT * FROM system.access.column_lineage"
   ]
  }
 ],
 "metadata": {
  "application/vnd.databricks.v1+notebook": {
   "computePreferences": null,
   "dashboards": [],
   "environmentMetadata": {
    "environment_version": "2"
   },
   "inputWidgetPreferences": null,
   "language": "sql",
   "notebookMetadata": {
    "pythonIndentUnit": 2
   },
   "notebookName": "03-lineage",
   "widgets": {}
  },
  "language_info": {
   "name": "sql"
  }
 },
 "nbformat": 4,
 "nbformat_minor": 0
}
