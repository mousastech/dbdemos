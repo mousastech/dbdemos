{
 "cells": [
  {
   "cell_type": "markdown",
   "metadata": {
    "application/vnd.databricks.v1+cell": {
     "cellMetadata": {},
     "inputWidgets": {},
     "nuid": "ec35772f-6d3b-47b6-b928-a3b05cba4bc4",
     "showTitle": false,
     "tableResultSettingsMap": {},
     "title": ""
    }
   },
   "source": [
    "# Databricks AI/BI for Marketing Campaign Analysis\n",
    "\n",
    "[Databricks AI/BI](https://www.youtube.com/watch?v=5ctfW6Ac0Ws), the newest addition to the Databricks Intelligence Platform, is a new type of business intelligence product built to democratize analytics and insights for anyone in your organization - technical or nontechnical. \n",
    "\n",
    "Powered by _your own organization's data,_ AI/BI understands your unique business concepts, challenges, and areas of opportunity, continuously learning and improving based on feedback - all behind a slick, nontechnical UI.\n",
    "\n",
    "AI/BI features two complementary capabilities: _Dashboards and Genie_. \n",
    "\n",
    "- **Dashboards** provide a low-code experience to help analysts quickly build highly interactive data visualizations for their business teams using any natural language.\n",
    "- **Genie** allows business users to converse with their data to ask questions and self-serve their own analytics.\n",
    "\n",
    "Databricks AI/BI is native to the Databricks Data Intelligence Platform, providing instant insights at massive scale while ensuring unified governance and fine-grained security are maintained across the entire organization.\n",
    "\n",
    "\n",
    "\n",
    "<!-- Collect usage data (view). Remove it to disable collection or disable tracker during installation. View README for more details.  -->\n",
    "<img width=\"1px\" src=\"https://ppxrzfxige.execute-api.us-west-2.amazonaws.com/v1/analytics?category=AI-BI&org_id=1444828305810485&notebook=%2FAI-BI-Marketing-campaign&demo_name=aibi-marketing-campaign&event=VIEW&path=%2F_dbdemos%2FAI-BI%2Faibi-marketing-campaign%2FAI-BI-Marketing-campaign&version=1\">"
   ]
  },
  {
   "cell_type": "markdown",
   "metadata": {
    "application/vnd.databricks.v1+cell": {
     "cellMetadata": {},
     "inputWidgets": {},
     "nuid": "feaa3b89-e8f4-4b61-bb2f-468cfbfc477e",
     "showTitle": false,
     "tableResultSettingsMap": {},
     "title": ""
    }
   },
   "source": [
    "## Marketing Campaign Analysis\n",
    "---\n",
    "\n",
    "### The Challenge\n",
    "\n",
    "Depending on their industry, organizations often spend anywhere from **7% to 25%** of their overall revenue collectively on marketing campaigns. While crucial to the business, organizations without a strong data intelligence platform struggle to unify siloed data, translate campaign outcomes to leadership, and experience tremendous slowdowns in time-to-analytics after a campaign.\n",
    "\n",
    "### The Solution\n",
    "\n",
    "Databricks' Intelligence Platform leverages **AI and Business Intelligence (_or as we call it, AI/BI_)** to democratize access to your organization's data. By integrating data from various marketing channels into a unified, cohesive environment, Databricks breaks down silos and makes comprehensive insights available to all team members. \n",
    "\n",
    "Advanced AI-driven analytics and intuitive BI tools empower both technical and non-technical users to effortlessly analyze campaign performance by asking questions of their data platform in natural language. This accessibility accelerates time-to-insights, enhances collaboration across departments, and enables leadership to make informed, data-driven decisions that optimize marketing strategies and drive business growth.\n",
    "\n",
    "## This Notebook\n",
    "\n",
    "This notebook will guide you, the amazing Databricks afficianado, through deploying a Databricks AI/BI project. Feel free to follow step-by-step to get comfortable with the project. But, just know that by installing this project, its dashboard and Genie Dataroom are already available at **these links**.\n",
    "\n",
    "In the following sections, this notebook will guide you through at a high-level:\n",
    "1. Data Ingestion with **Lakeflow Connect**\n",
    "2. Data Governance and Security with **Unity Catalog**\n",
    "3. Creating Beautiful **Dashboards** with Databricks\n",
    "4. Utilizing **Genie** to allow plain-english (or any language) questions of your data, no matter how messy"
   ]
  },
  {
   "cell_type": "markdown",
   "metadata": {
    "application/vnd.databricks.v1+cell": {
     "cellMetadata": {},
     "inputWidgets": {},
     "nuid": "caf3770a-1854-4c49-b363-f4c3720a98cf",
     "showTitle": false,
     "tableResultSettingsMap": {},
     "title": ""
    }
   },
   "source": [
    "## Step 1: Utilize Lakeflow Connect for Intuitive Data Ingestion\n",
    "\n",
    "<div style=\"background-color: #1B3139; color: #F9F7F4; padding: 40px; max-width: 400px; text-align: center; border-radius: 12px; box-shadow: 0 4px 10px rgba(0, 0, 0, 0.2); float:right; margin: 0px 15px 0px 15px\">\n",
    "  <div style=\"font-size: 1.5em; color: #FFAB00; margin-bottom: 20px;\">Data Ingestion with LakeFlow Connect</div>\n",
    "  <p style=\"font-size: 1em; color: #EEEDE9; margin-bottom: 20px; line-height: 1.6;\">\n",
    "    Discover how to seamlessly ingest your data with LakeFlow Connect. Dive into our interactive tour to learn more!\n",
    "  </p>\n",
    "  <a href=\"https://app.getreprise.com/launch/BXZY58n/\" target=\"_blank\" style=\"background-color: #00A972; color: #F9F7F4; border: none; padding: 15px 25px; border-radius: 8px; font-size: 1em; font-weight: bold; text-decoration: none; display: inline-block; transition: background-color 0.3s ease; cursor: pointer;\"\n",
    "     onmouseover=\"this.style.backgroundColor='#FF3621';\" onmouseout=\"this.style.backgroundColor='#00A972';\">\n",
    "    Open the Interactive Tour\n",
    "  </a>\n",
    "</div>\n",
    "\n",
    "As in any data project, your first step is to ingest and centralize your data to a central place.\n",
    "\n",
    "Databricks makes this super simple with LakeFlow Connect, a **point-and-click data ingestion solution** supporting:\n",
    "\n",
    "- Databases -- including SQL Servers and more.\n",
    "- Entreprise application such as Salesforce, Workday, Google Analytics or ServiceNow.\n",
    "\n",
    "If you want to know more about LakeFlow Connect and how to incrementally synchronize your external table to Databricks, you can open the [Lakeflow Connect Product Tour](https://www.databricks.com/resources/demos/tours/platform/discover-databricks-lakeflow-connect-demo).\n",
    "\n",
    "\n",
    "In this demo, we pre-loaded the data for you! For more details on how to simplify data transformation, [open the Delta Live Table Product Tour](https://www.databricks.com/resources/demos/tours/data-engineering/delta-live-tables).\n"
   ]
  },
  {
   "cell_type": "markdown",
   "metadata": {
    "application/vnd.databricks.v1+cell": {
     "cellMetadata": {},
     "inputWidgets": {},
     "nuid": "9314350e-3f94-4118-a686-e354a42bb2a8",
     "showTitle": false,
     "tableResultSettingsMap": {},
     "title": ""
    }
   },
   "source": [
    "\n",
    "## Step 2: Ensure data governance and security coverage with Databricks Unity Catalog\n",
    "\n",
    "<img src=\"https://raw.githubusercontent.com/databricks-demos/dbdemos-resources/refs/heads/main/images/aibi/dbx_aibi_uc.png\" style=\"float: right; margin: 10px\" width=\"500px\">\n",
    "\n",
    "Once your data is ingested and ready-to-go, **Databricks Unity Catalog** provides all the key features to support your business' data governane requirements, _including but not limited to_:\n",
    "\n",
    "- **Fine Grained Access control on your data**: Control who can access which row or column based on your own organization\n",
    "- **Full lineage, from data ingestion to ML models**: Analyze all downstream impact for any legal / privacy requirements\n",
    "- **Audit and traceability**: Analyze who did what, when\n",
    "- **Support for all data assets**: Including files, table, dashboards, ML/AI models, jobs, and more! _Simplify governance, support all your teams in one place._\n",
    "\n",
    "Explore the data and table ingested in [Unity Catalog](/explore/data) and make sure that it looks appropriate for your organization's needs.\n",
    "\n",
    "Click [here](https://www.databricks.com/product/unity-catalog) for more information on Databricks Unity Catalog.\n"
   ]
  },
  {
   "cell_type": "markdown",
   "metadata": {
    "application/vnd.databricks.v1+cell": {
     "cellMetadata": {},
     "inputWidgets": {},
     "nuid": "38a64929-8083-4cbb-b1c6-a683a4732c10",
     "showTitle": false,
     "tableResultSettingsMap": {},
     "title": ""
    }
   },
   "source": [
    "\n",
    "## Step 3: Utilize Databricks Dashboards to clearly show data trends\n",
    "\n",
    "<img src=\"https://raw.githubusercontent.com/databricks-demos/dbdemos-resources/refs/heads/main/images/aibi/dbx_aibi_dashboard_product.gif\" style=\"float: right; margin: 10px\" width=\"500px\">\n",
    "\n",
    "Your Marketing Campaign data is now available for your Data Analyst to explore and track their main KPIs.\n",
    "\n",
    "AI/BI Dashboards make it easy to create and iterate on visualizations with natural language through AI-assisted authoring. \n",
    "\n",
    "Dashboards offers advanced data visualization capabilities including sleek charts, interactions such as cross-filtering, periodic snapshots via email, embedding and _much more_. \n",
    "\n",
    "And they live side-by-side with your data, delivering instant load and rapid interactive analysis — no matter the data or user scale.\n",
    "\n",
    "\n",
    "Open the <a dbdemos-dashboard-id=\"web-marketing\" href='/sql/dashboardsv3/01f0095e357217d18c4a8f0eea37cfd7' target=\"_blank\">Campain Marketing Dashboard to analyze & track main KPIs</a>"
   ]
  },
  {
   "cell_type": "markdown",
   "metadata": {
    "application/vnd.databricks.v1+cell": {
     "cellMetadata": {},
     "inputWidgets": {},
     "nuid": "c8ed1d07-8eab-4ce8-bdb2-7f055d42ad8a",
     "showTitle": false,
     "tableResultSettingsMap": {},
     "title": ""
    }
   },
   "source": [
    "\n",
    "## Step 4: Create Genie to allow end-users to converse with your data\n",
    "\n",
    "<img src=\"https://raw.githubusercontent.com/databricks-demos/dbdemos-resources/refs/heads/main/images/aibi/dbx_aibi_genie_product.gif\" style=\"float: right; margin: 10px\" width=\"500px\">\n",
    "\n",
    "Our data is now available as a Dashboard that our business users can open.\n",
    "\n",
    "However, they'll likely have extra questions or followup based on the insight they see in the dashboard, like: \"What the heck is wrong with my campaign, anyway?\" or \"What was the CTR of my campaign last month?\"\n",
    "\n",
    "Open the <a dbdemos-genie-id=\"marketing-campaign\" href='/genie/rooms/01f0095e439c1f1dbb933ed36c6f6c58' target=\"_blank\">Campain Marketing Genie space to deep dive into your data</a>"
   ]
  },
  {
   "cell_type": "markdown",
   "metadata": {
    "application/vnd.databricks.v1+cell": {
     "cellMetadata": {},
     "inputWidgets": {},
     "nuid": "a8aa66e7-c35f-43b1-ae0b-d7cc21b8a38b",
     "showTitle": false,
     "tableResultSettingsMap": {},
     "title": ""
    }
   },
   "source": [
    "\n",
    "## \"I've had enough of AI/BI for now, what next?\"\n",
    "\n",
    "We have seen how Databricks' Data Intelligence Platform comprehensively understands your data, streamlining the journey from data ingestion to insightful dashboards, and supporting natural language queries.\n",
    "\n",
    "In addition, Databricks offers advanced capabilities, including:\n",
    "\n",
    "- **Data Engineering**: Build and orchestrate sophisticated data pipelines using Python and SQL\n",
    "- **Data Quality & Monitoring**: Ensure your data remains accurate and reliable\n",
    "- **Comprehensive Governance**: Implement fine-grained access controls and tagging\n",
    "- **State-of-the-Art Warehouse Engine**: Achieve excellent total cost of ownership (TCO)\n",
    "- **Support for ML, AI & GenAI Applications**: Fully hosted by Databricks\n",
    "- **GenAI Capabilities**: Create custom agents to further empower your business users\n",
    "\n",
    "Interested in learning more? [Explore our end-to-end platform demos](https://www.databricks.com/resources/demos/tutorials?itm_data=demo_center) to see step-by-step implementations."
   ]
  }
 ],
 "metadata": {
  "application/vnd.databricks.v1+notebook": {
   "computePreferences": null,
   "dashboards": [],
   "environmentMetadata": {
    "environment_version": "2"
   },
   "inputWidgetPreferences": null,
   "language": "python",
   "notebookMetadata": {
    "pythonIndentUnit": 2
   },
   "notebookName": "AI-BI-Marketing-campaign",
   "widgets": {}
  },
  "language_info": {
   "name": "python"
  }
 },
 "nbformat": 4,
 "nbformat_minor": 0
}
