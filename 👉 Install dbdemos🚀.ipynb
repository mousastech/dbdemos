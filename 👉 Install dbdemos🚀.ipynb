{
 "cells": [
  {
   "cell_type": "markdown",
   "metadata": {
    "application/vnd.databricks.v1+cell": {
     "cellMetadata": {},
     "inputWidgets": {},
     "nuid": "854ead31-181c-4582-b503-1fc0842a6dae",
     "showTitle": false,
     "tableResultSettingsMap": {},
     "title": ""
    }
   },
   "source": [
    "\n",
    "<img src=\"https://github.com/mousastech/dbdemos/blob/527a3ac37b007904b0189de1e22a4e8581fde9c2/files/header.png?raw=true\">\n",
    "\n",
    "# Instalar Databricks Demos (dbdemos)\n",
    "\n",
    "Tutorial mostrando como listar, instalar e usar databricks demos."
   ]
  },
  {
   "cell_type": "code",
   "execution_count": 0,
   "metadata": {
    "application/vnd.databricks.v1+cell": {
     "cellMetadata": {
      "byteLimit": 2048000,
      "rowLimit": 10000
     },
     "inputWidgets": {},
     "nuid": "1058f0a8-e57d-45e5-8f78-a0a3a4a488dc",
     "showTitle": true,
     "tableResultSettingsMap": {},
     "title": "Install using pip"
    }
   },
   "outputs": [],
   "source": [
    "%pip install dbdemos"
   ]
  },
  {
   "cell_type": "code",
   "execution_count": 0,
   "metadata": {
    "application/vnd.databricks.v1+cell": {
     "cellMetadata": {
      "byteLimit": 2048000,
      "rowLimit": 10000
     },
     "inputWidgets": {},
     "nuid": "ffc13fd9-c48a-4d04-834f-a466345cb56b",
     "showTitle": true,
     "tableResultSettingsMap": {},
     "title": "Listar demos disponíveis"
    }
   },
   "outputs": [],
   "source": [
    "import dbdemos\n",
    "dbdemos.list_demos()"
   ]
  },
  {
   "cell_type": "code",
   "execution_count": 0,
   "metadata": {
    "application/vnd.databricks.v1+cell": {
     "cellMetadata": {
      "byteLimit": 2048000,
      "rowLimit": 10000
     },
     "inputWidgets": {},
     "nuid": "adfb5fbb-5612-43b1-985f-c14b0dcb2938",
     "showTitle": false,
     "tableResultSettingsMap": {},
     "title": ""
    }
   },
   "outputs": [],
   "source": [
    "dbdemos.install('aibi-sales-pipeline-review', catalog='catalogomestre', schema='default', overwrite=True, path='/Users/moises.santos@databricks.com/aibi-sales-pipeline-review')"
   ]
  },
  {
   "cell_type": "code",
   "execution_count": 0,
   "metadata": {
    "application/vnd.databricks.v1+cell": {
     "cellMetadata": {
      "byteLimit": 2048000,
      "rowLimit": 10000
     },
     "inputWidgets": {},
     "nuid": "b08a331b-38b7-4757-93b2-90ab5258b870",
     "showTitle": true,
     "tableResultSettingsMap": {},
     "title": "Instalar demo escolhida"
    }
   },
   "outputs": [],
   "source": [
    "dbdemos.install('aibi-sales-pipeline-review', catalog='moi_uc_2', schema='default', overwrite=True, skip_genie_rooms = True)"
   ]
  },
  {
   "cell_type": "code",
   "execution_count": 0,
   "metadata": {
    "application/vnd.databricks.v1+cell": {
     "cellMetadata": {
      "byteLimit": 2048000,
      "rowLimit": 10000
     },
     "inputWidgets": {},
     "nuid": "538a593a-3d09-4dbf-956c-8318c163783c",
     "showTitle": false,
     "tableResultSettingsMap": {},
     "title": ""
    }
   },
   "outputs": [],
   "source": [
    "import dbdemos\n",
    "dbdemos.install('uc-04-system-tables', catalog='tutorial', schema='default', warehouse_name = 'Serverless Starter Warehouse', overwrite=True, path='/Users/mousas.rocha@gmail.com/dbdemos/uc-04-system-tables', use_current_cluster=True)"
   ]
  }
 ],
 "metadata": {
  "application/vnd.databricks.v1+notebook": {
   "dashboards": [],
   "environmentMetadata": {
    "base_environment": "",
    "client": "1"
   },
   "language": "python",
   "notebookMetadata": {
    "pythonIndentUnit": 2
   },
   "notebookName": "👉 Install dbdemos🚀",
   "widgets": {}
  },
  "language_info": {
   "name": "python"
  }
 },
 "nbformat": 4,
 "nbformat_minor": 0
}
