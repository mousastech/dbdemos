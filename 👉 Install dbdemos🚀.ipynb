{
 "cells": [
  {
   "cell_type": "markdown",
   "metadata": {
    "application/vnd.databricks.v1+cell": {
     "cellMetadata": {},
     "inputWidgets": {},
     "nuid": "854ead31-181c-4582-b503-1fc0842a6dae",
     "showTitle": false,
     "tableResultSettingsMap": {},
     "title": ""
    }
   },
   "source": [
    "\n",
    "<img src=\"https://github.com/mousastech/dbdemos/blob/527a3ac37b007904b0189de1e22a4e8581fde9c2/files/header.png?raw=true\">\n",
    "\n",
    "# Install Databricks Demos (dbdemos)\n",
    "\n",
    "Keep it near to install and try new Databricks demos"
   ]
  },
  {
   "cell_type": "code",
   "execution_count": 0,
   "metadata": {
    "application/vnd.databricks.v1+cell": {
     "cellMetadata": {
      "byteLimit": 2048000,
      "rowLimit": 10000
     },
     "inputWidgets": {},
     "nuid": "1058f0a8-e57d-45e5-8f78-a0a3a4a488dc",
     "showTitle": true,
     "tableResultSettingsMap": {},
     "title": "Install using pip"
    }
   },
   "outputs": [],
   "source": [
    "%pip install dbdemos --upgrade\n",
    "dbutils.library.restartPython() "
   ]
  },
  {
   "cell_type": "code",
   "execution_count": 0,
   "metadata": {
    "application/vnd.databricks.v1+cell": {
     "cellMetadata": {
      "byteLimit": 2048000,
      "rowLimit": 10000
     },
     "inputWidgets": {},
     "nuid": "ffc13fd9-c48a-4d04-834f-a466345cb56b",
     "showTitle": true,
     "tableResultSettingsMap": {},
     "title": "List available demos"
    }
   },
   "outputs": [],
   "source": [
    "import dbdemos\n",
    "dbdemos.list_demos()"
   ]
  },
  {
   "cell_type": "markdown",
   "metadata": {
    "application/vnd.databricks.v1+cell": {
     "cellMetadata": {},
     "inputWidgets": {},
     "nuid": "8d473f2c-96be-45ac-93a7-c42c42741625",
     "showTitle": false,
     "tableResultSettingsMap": {},
     "title": ""
    }
   },
   "source": [
    "#Parameters\n",
    "At the moment of intall you can set up some parameters sucha as:\n",
    "- catalog='main' _you choose_\n",
    "- schema='default' _you choose_\n",
    "- overwrite=True _only used in case of re-install_"
   ]
  },
  {
   "cell_type": "code",
   "execution_count": 0,
   "metadata": {
    "application/vnd.databricks.v1+cell": {
     "cellMetadata": {
      "byteLimit": 2048000,
      "rowLimit": 10000
     },
     "inputWidgets": {},
     "nuid": "a1716a2d-c50d-4035-bcb8-bfa1a2333208",
     "showTitle": true,
     "tableResultSettingsMap": {},
     "title": "Example: Install System table & cost attribution dashboards"
    }
   },
   "outputs": [],
   "source": [
    "import dbdemos\n",
    "dbdemos.install(\n",
    "    'uc-04-system-tables',\n",
    "    catalog='main',\n",
    "    schema='default',\n",
    "    use_current_cluster=True\n",
    ")\n",
    "\n",
    "#Antes de ejecutar, cambiar para su catalogo / schema favorito"
   ]
  }
 ],
 "metadata": {
  "application/vnd.databricks.v1+notebook": {
   "computePreferences": null,
   "dashboards": [],
   "environmentMetadata": {
    "base_environment": "",
    "environment_version": "1"
   },
   "inputWidgetPreferences": null,
   "language": "python",
   "notebookMetadata": {
    "pythonIndentUnit": 2
   },
   "notebookName": "👉 Install dbdemos🚀",
   "widgets": {}
  },
  "language_info": {
   "name": "python"
  }
 },
 "nbformat": 4,
 "nbformat_minor": 0
}
