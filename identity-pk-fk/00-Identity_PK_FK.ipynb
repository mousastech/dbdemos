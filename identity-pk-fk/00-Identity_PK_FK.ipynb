{
 "cells": [
  {
   "cell_type": "markdown",
   "metadata": {
    "application/vnd.databricks.v1+cell": {
     "cellMetadata": {},
     "inputWidgets": {},
     "nuid": "1ee86a97-6a23-4428-bf5d-42fee6ab43f4",
     "showTitle": false,
     "tableResultSettingsMap": {},
     "title": ""
    }
   },
   "source": [
    "# Unity Catalog : Support for Identity Columns, Primary + Foreign Key Constraints\n",
    "\n",
    "<img src=\"https://github.com/QuentinAmbard/databricks-demo/raw/main/product_demos/uc/UC-FK-PK-crop.png\" style=\"float:right; margin:10px 0px 0px 10px\" width=\"700\"/>\n",
    "\n",
    "\n",
    "\n",
    "To simplify SQL operations and support migrations from on-prem and alternative warehouse, Databricks Lakehouse now give customers convenient ways to build Entity Relationship Diagrams that are simple to maintain and evolve.\n",
    "\n",
    "These features offer:\n",
    "- The ability to automatically generate auto-incrementing identify columns. Just insert data and the engine will automatically increment the ID.\n",
    "- Support for defining primary key\n",
    "- Support for defining foreign key constraints\n",
    "\n",
    "Note that as of now, Primary Key and Foreign Key are informational only and then won’t be enforced. \n",
    "\n",
    "<br /><br /><br />\n",
    "## Use case\n",
    "\n",
    "<img src=\"https://github.com/QuentinAmbard/databricks-demo/raw/main/product_demos/uc/UC-star-schema.png\" style=\"float:right; margin:10px 0px 0px 10px\" width=\"700\"/>\n",
    "\n",
    "Defining PK & FK helps the BI analyst to understand the entity relationships and how to join tables. It also offers more information to BI tools who can leverage this to perform further optimisation.\n",
    "\n",
    "We'll define the following star schema:\n",
    "* dim_store\n",
    "* dim_product\n",
    "* dim_customer\n",
    "\n",
    "And the fact table containing our sales information pointing to our dimension tables:\n",
    "\n",
    "* fact_sales\n",
    "\n",
    "Requirements:\n",
    "- PK/FK requires Unity Catalog enabled (Hive Metastore is not supported for FK/PK)\n",
    "- DBR 11.1\n",
    "\n",
    "<!-- Collect usage data (view). Remove it to disable collection or disable tracker during installation. View README for more details.  -->\n",
    "<img width=\"1px\" src=\"https://ppxrzfxige.execute-api.us-west-2.amazonaws.com/v1/analytics?category=DBSQL&org_id=1444828305810485&notebook=%2F00-Identity_PK_FK&demo_name=identity-pk-fk&event=VIEW&path=%2F_dbdemos%2FDBSQL%2Fidentity-pk-fk%2F00-Identity_PK_FK&version=1\">"
   ]
  },
  {
   "cell_type": "markdown",
   "metadata": {
    "application/vnd.databricks.v1+cell": {
     "cellMetadata": {},
     "inputWidgets": {},
     "nuid": "cac27d06-02e8-493d-8908-c330a99b1528",
     "showTitle": false,
     "tableResultSettingsMap": {},
     "title": null
    }
   },
   "source": [
    "### A cluster has been created for this demo\n",
    "To run this demo, just select the cluster `dbdemos-identity-pk-fk-moises_santos` from the dropdown menu ([open cluster configuration](https://e2-demo-field-eng.cloud.databricks.com/#setting/clusters/0325-094346-alg34zk4/configuration)). <br />\n",
    "*Note: If the cluster was deleted after 30 days, you can re-create it with `dbdemos.create_cluster('identity-pk-fk')` or re-install the demo: `dbdemos.install('identity-pk-fk')`*"
   ]
  },
  {
   "cell_type": "markdown",
   "metadata": {
    "application/vnd.databricks.v1+cell": {
     "cellMetadata": {},
     "inputWidgets": {},
     "nuid": "03cfd0a0-b6c9-4f10-b469-538c880cb823",
     "showTitle": false,
     "tableResultSettingsMap": {},
     "title": ""
    }
   },
   "source": [
    "## Cluster setup for UC\n",
    "\n",
    "<img src=\"https://github.com/QuentinAmbard/databricks-demo/raw/main/product_demos/uc/uc-cluster-setup-single-user.png\" style=\"float: right\"/>\n",
    "\n",
    "\n",
    "To be able to run this demo, make sure you create a cluster with the security mode enabled.\n",
    "\n",
    "Go in the compute page, create a new cluster.\n",
    "\n",
    "Select \"Single User\" and your UC-user (the user needs to exist at the workspace and the account level)"
   ]
  },
  {
   "cell_type": "code",
   "execution_count": 0,
   "metadata": {
    "application/vnd.databricks.v1+cell": {
     "cellMetadata": {
      "byteLimit": 2048000,
      "rowLimit": 10000
     },
     "inputWidgets": {},
     "nuid": "da5fd85a-3c94-4b21-941d-aad60e163a5a",
     "showTitle": true,
     "tableResultSettingsMap": {},
     "title": "Environment Setup. You need the permission to create a catalog and schema in your Unity Catalog metastore."
    },
    "jupyter": {
     "outputs_hidden": true
    }
   },
   "outputs": [],
   "source": [
    "%run ./_resources/00-setup"
   ]
  },
  {
   "cell_type": "markdown",
   "metadata": {
    "application/vnd.databricks.v1+cell": {
     "cellMetadata": {},
     "inputWidgets": {},
     "nuid": "8aa232f3-38af-4177-b8f6-966a6cf9fae8",
     "showTitle": false,
     "tableResultSettingsMap": {},
     "title": ""
    }
   },
   "source": [
    "## 1/ Create a Dimension & Fact Tables In Unity Catalog\n",
    "\n",
    "The first step is to create a Delta Tables in Unity Catalog (see [documentation](https://docs.databricks.com/sql/language-manual/sql-ref-syntax-ddl-create-table-using.html)).\n",
    "\n",
    "We want to do that in SQL, to show multi-language support (we could have done it in python too):\n",
    "\n",
    "\n",
    "* Use the `CREATE TABLE` command\n",
    "* Add generated identity column with `GENERATED ALWAYS AS IDENTITY`\n",
    "* Define PK with `PRIMARY KEY`\n",
    "* Define Foreign Keys with `FOREIGN KEY REFERENCES`"
   ]
  },
  {
   "cell_type": "code",
   "execution_count": 0,
   "metadata": {
    "application/vnd.databricks.v1+cell": {
     "cellMetadata": {},
     "inputWidgets": {},
     "nuid": "f07a0440-25c1-4c89-b30d-a21d5ba52ee6",
     "showTitle": false,
     "tableResultSettingsMap": {},
     "title": ""
    }
   },
   "outputs": [],
   "source": [
    "--STORE DIMENSION\n",
    "CREATE OR REPLACE  TABLE dim_store(\n",
    "  store_id BIGINT GENERATED ALWAYS AS IDENTITY PRIMARY KEY,\n",
    "  store_name STRING,\n",
    "  address STRING\n",
    ");\n",
    "\n",
    "--PRODUCT DIMENSION\n",
    "CREATE OR REPLACE  TABLE dim_product(\n",
    "  product_id BIGINT GENERATED ALWAYS AS IDENTITY PRIMARY KEY,\n",
    "  sku STRING,\n",
    "  description STRING,\n",
    "  category STRING\n",
    ");\n",
    "\n",
    "--CUSTOMER DIMENSION\n",
    "CREATE OR REPLACE  TABLE dim_customer(\n",
    "  customer_id BIGINT GENERATED ALWAYS AS IDENTITY (START WITH 0 INCREMENT BY 10) PRIMARY KEY,\n",
    "  customer_name STRING,\n",
    "  customer_profile STRING,\n",
    "  address STRING\n",
    ");\n",
    "\n",
    "CREATE OR REPLACE TABLE fact_sales(\n",
    "  sales_id BIGINT GENERATED ALWAYS AS IDENTITY PRIMARY KEY,\n",
    "  product_id BIGINT NOT NULL CONSTRAINT dim_product_fk FOREIGN KEY REFERENCES dim_product,\n",
    "  store_id BIGINT NOT NULL CONSTRAINT dim_store_fk FOREIGN KEY REFERENCES dim_store,\n",
    "  customer_id BIGINT NOT NULL CONSTRAINT dim_customer_fk FOREIGN KEY REFERENCES dim_customer,\n",
    "  price_sold DOUBLE,\n",
    "  units_sold INT,\n",
    "  dollar_cost DOUBLE\n",
    ");\n"
   ]
  },
  {
   "cell_type": "markdown",
   "metadata": {
    "application/vnd.databricks.v1+cell": {
     "cellMetadata": {},
     "inputWidgets": {},
     "nuid": "e1e00876-8e79-4376-95fc-d7917ea2caba",
     "showTitle": false,
     "tableResultSettingsMap": {},
     "title": ""
    }
   },
   "source": [
    "## 2/ Let's look at the table definition for DIM_CUSTOMER\n",
    "\n",
    "The first step is to run DESCRIBE TABLE EXTENDED\n",
    "\n",
    "Constraints are shown at the bottom of the results:\n",
    "\n",
    "\n",
    "| col_name       | data_type                | \n",
    "|----------------|--------------------------|\n",
    "| #  Constraints |                          |\n",
    "| dim_customer_pk    | PRIMARY KEY (`customer_id`) |"
   ]
  },
  {
   "cell_type": "code",
   "execution_count": 0,
   "metadata": {
    "application/vnd.databricks.v1+cell": {
     "cellMetadata": {},
     "inputWidgets": {},
     "nuid": "cc4f8ada-1142-47a6-9138-8f3f569bb465",
     "showTitle": false,
     "tableResultSettingsMap": {},
     "title": ""
    }
   },
   "outputs": [],
   "source": [
    "DESCRIBE TABLE EXTENDED dim_customer;"
   ]
  },
  {
   "cell_type": "markdown",
   "metadata": {
    "application/vnd.databricks.v1+cell": {
     "cellMetadata": {},
     "inputWidgets": {},
     "nuid": "a20702e4-d867-44b3-96c4-add120a3a203",
     "showTitle": false,
     "tableResultSettingsMap": {},
     "title": ""
    }
   },
   "source": [
    "## 3/ Let's add some data to the Dimension Tables\n",
    "\n",
    "We want to do that in SQL, to show multi-language support:\n",
    "\n",
    "* Use the `INSERT INTO` command to insert some rows in the table\n",
    "* Note that we don't specify the values for IDs as they'll be generated by the engine with auto-increment"
   ]
  },
  {
   "cell_type": "code",
   "execution_count": 0,
   "metadata": {
    "application/vnd.databricks.v1+cell": {
     "cellMetadata": {},
     "inputWidgets": {},
     "nuid": "bb8c7b1b-9848-4697-9a8a-06d57702854d",
     "showTitle": false,
     "tableResultSettingsMap": {},
     "title": ""
    }
   },
   "outputs": [],
   "source": [
    "INSERT INTO\n",
    "  dim_store (store_name, address)\n",
    "VALUES\n",
    "  ('City Store', '1 Main Rd, Whoville');\n",
    "  \n",
    "INSERT INTO\n",
    "  dim_product (sku, description, category)\n",
    "VALUES\n",
    "  ('1000001', 'High Tops', 'Ladies Shoes'),\n",
    "  ('7000003', 'Printed T', 'Ladies Fashion Tops');\n",
    "  \n",
    "INSERT INTO\n",
    "  dim_customer (customer_name, customer_profile, address)\n",
    "VALUES\n",
    "  ('Al', 'Al profile', 'Databricks - Queensland Australia'),\n",
    "  ('Quentin', 'REDACTED_PROFILE', 'Databricks - Paris France');"
   ]
  },
  {
   "cell_type": "code",
   "execution_count": 0,
   "metadata": {
    "application/vnd.databricks.v1+cell": {
     "cellMetadata": {},
     "inputWidgets": {},
     "nuid": "666245cc-48f2-44d6-99b7-c92c76182132",
     "showTitle": true,
     "tableResultSettingsMap": {},
     "title": "As you can see the ids (GENERATED ALWAYS) are automatically generated with increment:"
    }
   },
   "outputs": [],
   "source": [
    "SELECT * FROM dim_product;"
   ]
  },
  {
   "cell_type": "markdown",
   "metadata": {
    "application/vnd.databricks.v1+cell": {
     "cellMetadata": {},
     "inputWidgets": {},
     "nuid": "9ea4ee9a-c214-4dca-b2ca-4a7acb10ee1a",
     "showTitle": false,
     "tableResultSettingsMap": {},
     "title": ""
    }
   },
   "source": [
    "## 4/ Let's add some data to the Fact Tables\n",
    "\n",
    "We want to do that in SQL, to show multi-language support:\n",
    "1. Use the `INSERT INTO` command to insert some rows in the table"
   ]
  },
  {
   "cell_type": "code",
   "execution_count": 0,
   "metadata": {
    "application/vnd.databricks.v1+cell": {
     "cellMetadata": {},
     "inputWidgets": {},
     "nuid": "955453c9-30f3-4381-a76b-f33f70961462",
     "showTitle": false,
     "tableResultSettingsMap": {},
     "title": ""
    }
   },
   "outputs": [],
   "source": [
    "INSERT INTO\n",
    "  fact_sales (product_id, store_id, customer_id, price_sold, units_sold, dollar_cost)\n",
    "VALUES\n",
    "  (1, 1, 0, 100.99, 2, 2.99),\n",
    "  (2, 1, 0, 10.99, 2, 2.99),\n",
    "  (1, 1, 0, 100.99, 2, 2.99),\n",
    "  (1, 1, 10, 100.99, 2, 2.99),\n",
    "  (2, 1, 10, 10.99, 2, 2.99);"
   ]
  },
  {
   "cell_type": "markdown",
   "metadata": {
    "application/vnd.databricks.v1+cell": {
     "cellMetadata": {},
     "inputWidgets": {},
     "nuid": "30cb6da7-bcf7-44ce-b965-3f6a7eaa8f3f",
     "showTitle": false,
     "tableResultSettingsMap": {},
     "title": ""
    }
   },
   "source": [
    "### Query the tables joining data\n",
    "\n",
    "We can now imply query the tables to retrieve our data based on the FK:"
   ]
  },
  {
   "cell_type": "code",
   "execution_count": 0,
   "metadata": {
    "application/vnd.databricks.v1+cell": {
     "cellMetadata": {},
     "inputWidgets": {},
     "nuid": "14e71cb3-4332-452d-b25d-9f4678eebdf7",
     "showTitle": false,
     "tableResultSettingsMap": {},
     "title": ""
    }
   },
   "outputs": [],
   "source": [
    "SELECT * FROM fact_sales\n",
    "  INNER JOIN dim_product  USING (product_id)\n",
    "  INNER JOIN dim_customer USING (customer_id)\n",
    "  INNER JOIN dim_store    USING (store_id)"
   ]
  },
  {
   "cell_type": "markdown",
   "metadata": {
    "application/vnd.databricks.v1+cell": {
     "cellMetadata": {},
     "inputWidgets": {},
     "nuid": "f9217d2a-5d3d-4206-8c67-67df281fd018",
     "showTitle": false,
     "tableResultSettingsMap": {},
     "title": ""
    }
   },
   "source": [
    "## 5/ Primary Key and Foreign Key in Data Explorer\n",
    "\n",
    "<br />\n",
    "\n",
    "<img src=\"https://github.com/althrussell/databricks-demo/raw/main/product-demos/pkfk/images/data_explorer.gif\" style=\"float:right; margin-left:100px\" width=\"700\"/>"
   ]
  },
  {
   "cell_type": "markdown",
   "metadata": {
    "application/vnd.databricks.v1+cell": {
     "cellMetadata": {},
     "inputWidgets": {},
     "nuid": "d6111269-1cc1-4aa4-b2d7-a6972ee758a3",
     "showTitle": false,
     "tableResultSettingsMap": {},
     "title": ""
    }
   },
   "source": [
    "\n",
    "## 6/ Primary Key and Foreign Key in DBSQL - Code Completion\n",
    "\n",
    "<br />\n",
    "\n",
    "<img src=\"https://github.com/althrussell/databricks-demo/raw/main/product-demos/pkfk/images/code_completion.gif\" style=\"float:center; margin-left:100px\" width=\"700\"/>"
   ]
  },
  {
   "cell_type": "code",
   "execution_count": 0,
   "metadata": {
    "application/vnd.databricks.v1+cell": {
     "cellMetadata": {},
     "inputWidgets": {},
     "nuid": "24375932-6d90-4d0e-84f2-bf690047829a",
     "showTitle": true,
     "tableResultSettingsMap": {},
     "title": "Clean Up"
    }
   },
   "outputs": [],
   "source": [
    "-- %python spark.sql(f\"DROP DATABASE {catalog}.{db} CASCADE\")"
   ]
  },
  {
   "cell_type": "markdown",
   "metadata": {
    "application/vnd.databricks.v1+cell": {
     "cellMetadata": {},
     "inputWidgets": {},
     "nuid": "06c4604f-e0c7-4efe-8bc8-8e263bb7e519",
     "showTitle": false,
     "tableResultSettingsMap": {},
     "title": ""
    }
   },
   "source": [
    "# Summary\n",
    "\n",
    "<img src=\"https://github.com/QuentinAmbard/databricks-demo/raw/main/product_demos/uc/UC-FK-PK.png\" style=\"float:right; margin-left:10px\" width=\"900\"/>\n",
    "\n",
    "As you have seen Primary Keys and Foreign Keys help the BI analyst to understand the entity relationships and how to join tables and even better having code completion do the joins for you.  \n",
    "\n",
    "The best Datawarehouse is a Lakehouse!\n",
    "\n",
    "Next Steps:\n",
    "- Try DBSQL query & dashboard editors\n",
    "- Plug your BI tools (Tableau, PowerBI ...) to query these tables directly!"
   ]
  }
 ],
 "metadata": {
  "application/vnd.databricks.v1+notebook": {
   "computePreferences": null,
   "dashboards": [],
   "environmentMetadata": {
    "environment_version": "2"
   },
   "inputWidgetPreferences": null,
   "language": "sql",
   "notebookMetadata": {
    "pythonIndentUnit": 2
   },
   "notebookName": "00-Identity_PK_FK",
   "widgets": {}
  },
  "language_info": {
   "name": "sql"
  }
 },
 "nbformat": 4,
 "nbformat_minor": 0
}
