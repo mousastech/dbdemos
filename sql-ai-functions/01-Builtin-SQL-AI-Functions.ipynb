{
 "cells": [
  {
   "cell_type": "markdown",
   "metadata": {
    "application/vnd.databricks.v1+cell": {
     "cellMetadata": {},
     "inputWidgets": {},
     "nuid": "aa2a59da-9e06-49f4-b094-b7ae0bafa872",
     "showTitle": false,
     "tableResultSettingsMap": {},
     "title": ""
    }
   },
   "source": [
    "# Process and analyse text with Built In Databricks SQL AI functions\n",
    "\n",
    "Databricks SQL provides [built-in GenAI capabilities](https://docs.databricks.com/en/large-language-models/ai-functions.html), letting you perform adhoc operation, leveraging state of the art LLM, optimized for these tasks.\n",
    "\n",
    "These functions are the following:\n",
    "\n",
    "- `ai_analyze_sentiment`\n",
    "- `ai_classify`\n",
    "- `ai_extract`\n",
    "- `ai_fix_grammar`\n",
    "- `ai_gen`\n",
    "- `ai_mask`\n",
    "- `ai_similarity`\n",
    "- `ai_summarize`\n",
    "- `ai_translate`\n",
    "\n",
    "Using these functions is pretty straightforward. Under the hood, they call specialized LLMs with a custom prompt, providing fast answers.\n",
    "\n",
    "You can use them on any column in any SQL text.\n",
    "\n",
    "Let's give it a try.\n",
    "\n",
    "<!-- Collect usage data (view). Remove it to disable collection or disable tracker during installation. View README for more details.  -->\n",
    "<img width=\"1px\" src=\"https://ppxrzfxige.execute-api.us-west-2.amazonaws.com/v1/analytics?category=DBSQL&org_id=1444828305810485&notebook=%2F01-Builtin-SQL-AI-Functions&demo_name=sql-ai-functions&event=VIEW&path=%2F_dbdemos%2FDBSQL%2Fsql-ai-functions%2F01-Builtin-SQL-AI-Functions&version=1\">"
   ]
  },
  {
   "cell_type": "markdown",
   "metadata": {
    "application/vnd.databricks.v1+cell": {
     "cellMetadata": {},
     "inputWidgets": {},
     "nuid": "223914d4-ca8c-44d1-bfce-ec6bfce1c231",
     "showTitle": false,
     "tableResultSettingsMap": {},
     "title": ""
    }
   },
   "source": [
    "## Using a SQL Warehouse to run this demo\n",
    "\n",
    "This demo runs using a SQL Warehouse! \n",
    "\n",
    "Make sure you select one using the dropdown on the top right of your notebook (don't select a classic compute/cluster)\n",
    "\n"
   ]
  },
  {
   "cell_type": "code",
   "execution_count": 0,
   "metadata": {
    "application/vnd.databricks.v1+cell": {
     "cellMetadata": {},
     "inputWidgets": {},
     "nuid": "cc47b28d-3b17-44c1-bda6-8626c83fe7a3",
     "showTitle": true,
     "tableResultSettingsMap": {},
     "title": "Generate dataset"
    }
   },
   "outputs": [],
   "source": [
    "-- Make sure you run this notebook using a SQL Warehouse or Serverless endpoint (not a classic cluster)\n",
    "-- assert_true function returns an untyped null if no error is returned\n",
    "SELECT assert_true(current_version().dbsql_version is not null, 'YOU MUST USE A SQL WAREHOUSE OR SERVERLESS, not a classic cluster');\n",
    "\n",
    "SELECT ai_gen('Generate a concise, cheerful email title for a summer bike sale with 20% discount');"
   ]
  },
  {
   "cell_type": "code",
   "execution_count": 0,
   "metadata": {
    "application/vnd.databricks.v1+cell": {
     "cellMetadata": {},
     "inputWidgets": {},
     "nuid": "3142b64b-d592-45d6-b3d2-1fd227c5ebf0",
     "showTitle": true,
     "tableResultSettingsMap": {},
     "title": "Fix grammar"
    }
   },
   "outputs": [],
   "source": [
    "SELECT ai_fix_grammar('This sentence have some mistake');"
   ]
  },
  {
   "cell_type": "code",
   "execution_count": 0,
   "metadata": {
    "application/vnd.databricks.v1+cell": {
     "cellMetadata": {},
     "inputWidgets": {},
     "nuid": "1dc0991f-2d5a-4db7-845a-e5a0533ce0e4",
     "showTitle": true,
     "tableResultSettingsMap": {},
     "title": "Automatically classify text into categories"
    }
   },
   "outputs": [],
   "source": [
    "SELECT ai_classify(\"My password is leaked.\", ARRAY(\"urgent\", \"not urgent\"));"
   ]
  },
  {
   "cell_type": "code",
   "execution_count": 0,
   "metadata": {
    "application/vnd.databricks.v1+cell": {
     "cellMetadata": {},
     "inputWidgets": {},
     "nuid": "860f76d5-b559-41d5-9704-66b4dc407a9b",
     "showTitle": true,
     "tableResultSettingsMap": {},
     "title": "Translate into other language"
    }
   },
   "outputs": [],
   "source": [
    "SELECT ai_translate(\"This function is so amazing!\", \"fr\")"
   ]
  },
  {
   "cell_type": "code",
   "execution_count": 0,
   "metadata": {
    "application/vnd.databricks.v1+cell": {
     "cellMetadata": {},
     "inputWidgets": {},
     "nuid": "c73a2cd6-84f7-45cb-a129-33c4c5f48eaf",
     "showTitle": true,
     "tableResultSettingsMap": {},
     "title": "Compute similarity between sentences"
    }
   },
   "outputs": [],
   "source": [
    "SELECT ai_similarity('Databricks', 'Apache Spark'),  ai_similarity('Apache Spark', 'The Apache Spark Engine');"
   ]
  },
  {
   "cell_type": "markdown",
   "metadata": {
    "application/vnd.databricks.v1+cell": {
     "cellMetadata": {},
     "inputWidgets": {},
     "nuid": "97abc7ba-1c99-478e-b0b4-f6fc61cf3113",
     "showTitle": false,
     "tableResultSettingsMap": {},
     "title": ""
    }
   },
   "source": [
    "\n",
    "## Going further: creating your own AI function with your Model Serving Endpoint or other Foundation Models\n",
    "\n",
    "We saw how Databricks simplifies your SQL operation with built in AI functions.\n",
    "\n",
    "However, you might need more  advanced capabilities:\n",
    "\n",
    "- Use your own custom LLMs behind a Model Serving Endpoint\n",
    "- Create more advanced AI Function\n",
    "- Add more control on the prompt  \n",
    "\n",
    "That's what the `AI_QUERY` function can offer.\n",
    "\n",
    "Open the next notebook: [02-Generate-fake-data-with-AI-functions]($./02-Generate-fake-data-with-AI-functions) to see how you can leverage `AI_FUNCTION` to automate product review analysis and create customized answer.\n",
    "\n",
    "Go back to [the introduction]($./00-SQL-AI-Functions-Introduction)"
   ]
  }
 ],
 "metadata": {
  "application/vnd.databricks.v1+notebook": {
   "computePreferences": null,
   "dashboards": [],
   "environmentMetadata": {
    "environment_version": "2"
   },
   "inputWidgetPreferences": null,
   "language": "sql",
   "notebookMetadata": {
    "pythonIndentUnit": 2
   },
   "notebookName": "01-Builtin-SQL-AI-Functions",
   "widgets": {}
  },
  "language_info": {
   "name": "sql"
  }
 },
 "nbformat": 4,
 "nbformat_minor": 0
}
