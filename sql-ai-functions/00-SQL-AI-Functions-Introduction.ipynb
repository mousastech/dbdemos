{
 "cells": [
  {
   "cell_type": "markdown",
   "metadata": {
    "application/vnd.databricks.v1+cell": {
     "cellMetadata": {},
     "inputWidgets": {},
     "nuid": "4fe4c970-fefd-4da8-998a-cf02ce8f7dc7",
     "showTitle": false,
     "tableResultSettingsMap": {},
     "title": ""
    }
   },
   "source": [
    "# 1/ Process and analyse text with Built In Databricks SQL AI functions\n",
    "\n",
    "Databricks SQL provides [built-in GenAI capabilities](https://docs.databricks.com/en/large-language-models/ai-functions.html), letting you perform adhoc operation, leveraging state of the art LLM, optimized for these tasks.\n",
    "\n",
    "Discover how to leverage functions such as  `ai_analyze_sentiment`,  `ai_classify` or `ai_gen` with Databricks SQL. In addition, Databricks AI Functions are fully serverless which delivers 10x faster performance with no requirement of setting up inference endpoint and manage infrastructure.\n",
    "\n",
    "Open the [01-Builtin-SQL-AI-Functions]($./01-Builtin-SQL-AI-Functions) to get started with Databricks SQL AI builtin functions.\n",
    "\n",
    "<!-- Collect usage data (view). Remove it to disable collection or disable tracker during installation. View README for more details.  -->\n",
    "<img width=\"1px\" src=\"https://ppxrzfxige.execute-api.us-west-2.amazonaws.com/v1/analytics?category=DBSQL&org_id=1444828305810485&notebook=%2F00-SQL-AI-Functions-Introduction&demo_name=sql-ai-functions&event=VIEW&path=%2F_dbdemos%2FDBSQL%2Fsql-ai-functions%2F00-SQL-AI-Functions-Introduction&version=1\">"
   ]
  },
  {
   "cell_type": "markdown",
   "metadata": {
    "application/vnd.databricks.v1+cell": {
     "cellMetadata": {},
     "inputWidgets": {},
     "nuid": "08db1c13-0cc5-4b78-81cc-a0a71ef92d5f",
     "showTitle": false,
     "tableResultSettingsMap": {},
     "title": ""
    }
   },
   "source": [
    "# 2/ Going Further: Actioning Customer Reviews at Scale with Databricks SQL AI Functions and custom Model Endpoint (LLM or other)\n",
    "\n",
    "Databricks builtin AI functions are powerful and let you quickly achieve many tasks with text.\n",
    "\n",
    "However, you might sometime require more fine-grained control and select wich Foundation Model you want to call (Mistral, Llama, Dbrx, OpenAI or one of your own fine-tuning model), passing specific instruction. \n",
    "\n",
    "You might also need to query your own fine-tuned LLMs, providing a solution to leverage small models to perform extremely well on specialized tasks, at a lower cost."
   ]
  },
  {
   "cell_type": "markdown",
   "metadata": {
    "application/vnd.databricks.v1+cell": {
     "cellMetadata": {},
     "inputWidgets": {},
     "nuid": "97a5de70-3d06-40b1-96f4-67c9a9c002bd",
     "showTitle": false,
     "tableResultSettingsMap": {},
     "title": ""
    }
   },
   "source": [
    "\n",
    "## Use-case: Increasing customer satisfaction and churn reduction with automatic reviews analysis\n",
    "\n",
    "In this demo, we'll build a data pipeline that takes customer reviews as text, analyze them by leveraging LLMs (Databricks Foundation Model Llama or Mistral). \n",
    "\n",
    "We'll even provide recommendations for next best actions to our customer service team - i.e. whether a customer requires follow-up, and a sample message to follow-up with.\n",
    "\n",
    "For each review, we:\n",
    "- Extract information such as sentiment and whether a response is required back to the customer\n",
    "- Generate a response mentioning alternative products that may satisfy the customer\n",
    "\n",
    "&nbsp;\n",
    "<img src=\"https://raw.githubusercontent.com/databricks-demos/dbdemos-resources/main/images/product/sql-ai-functions/sql-ai-function-review.png\" width=\"1200\">"
   ]
  },
  {
   "cell_type": "markdown",
   "metadata": {
    "application/vnd.databricks.v1+cell": {
     "cellMetadata": {},
     "inputWidgets": {},
     "nuid": "638b336d-cf08-40d8-a246-c8943fcf0caf",
     "showTitle": false,
     "tableResultSettingsMap": {},
     "title": ""
    }
   },
   "source": [
    "\n",
    "## 2.1/ Introducing Databricks AI_QUERY() function: generating dataset\n",
    "\n",
    "Databricks provide a `ai_query()` function that you can use to call any model endpoint. \n",
    "\n",
    "This lets you wrap functions around any Model Serving Endpoint. Your endpoint can then implement any logic (a Foundation Model, a more advanced Chain Of Thought, or a classic ML model). \n",
    "\n",
    "AI Functions abstracts away the technical complexities of calling LLMs, enabling analysts and data scientists to start using these models without worrying about the underlying infrastructure.\n",
    "\n",
    "In this demo, we use one of our [Foundation models](https://docs.databricks.com/en/machine-learning/foundation-models/index.html), [Llama 3.3 70B Instruct](https://www.databricks.com/blog/making-ai-more-accessible-80-cost-savings-meta-llama-33-databricks) as our LLM that will be used by AI_QUERY() to generate fake reviews. \n",
    "\n",
    "Open the next Notebook to generate some sample data for our demo: [02-Generate-fake-data-with-AI-functions]($./02-Generate-fake-data-with-AI-functions)"
   ]
  },
  {
   "cell_type": "markdown",
   "metadata": {
    "application/vnd.databricks.v1+cell": {
     "cellMetadata": {},
     "inputWidgets": {},
     "nuid": "bcc1d25b-9665-4058-8427-ceea35ba5b6e",
     "showTitle": false,
     "tableResultSettingsMap": {},
     "title": ""
    }
   },
   "source": [
    "## 2.2/ Building our SQL pipeline with our LLM to extract review sentiments\n",
    "\n",
    "We are now ready to use create our full data pipeline:\n",
    "\n",
    "&nbsp;\n",
    "<img src=\"https://raw.githubusercontent.com/databricks-demos/dbdemos-resources/main/images/product/sql-ai-functions/sql-ai-function-flow.png\" width=\"1000\">\n",
    "\n",
    "Open the [03-automated-product-review-and-answer]($./03-automated-product-review-and-answer) to process our text using SQL and automate our review answer!"
   ]
  },
  {
   "cell_type": "markdown",
   "metadata": {
    "application/vnd.databricks.v1+cell": {
     "cellMetadata": {},
     "inputWidgets": {},
     "nuid": "7307253a-869a-4817-9f58-ac09391c1330",
     "showTitle": false,
     "tableResultSettingsMap": {},
     "title": ""
    }
   },
   "source": [
    "### Optional: If you cannot access a foundation model, follow the instructions in the notebook [04-Extra-setup-external-model-OpenAI]($./04-Extra-setup-external-model-OpenAI) to use an OpenAI model instead. "
   ]
  },
  {
   "cell_type": "markdown",
   "metadata": {
    "application/vnd.databricks.v1+cell": {
     "cellMetadata": {},
     "inputWidgets": {},
     "nuid": "9a2ab9f0-6ac8-4caf-b840-cad3bcf2473b",
     "showTitle": false,
     "tableResultSettingsMap": {},
     "title": ""
    }
   },
   "source": [
    "## Further Reading and Resources\n",
    "- [Documentation](https://docs.databricks.com/en/large-language-models/ai-query-external-model.html)\n",
    "- [Introducing AI Functions: Integrating Large Language Models with Databricks SQL](https://www.databricks.com/blog/2023/04/18/introducing-ai-functions-integrating-large-language-models-databricks-sql.html)"
   ]
  }
 ],
 "metadata": {
  "application/vnd.databricks.v1+notebook": {
   "computePreferences": null,
   "dashboards": [],
   "environmentMetadata": {
    "environment_version": "2"
   },
   "inputWidgetPreferences": null,
   "language": "python",
   "notebookMetadata": {
    "pythonIndentUnit": 2
   },
   "notebookName": "00-SQL-AI-Functions-Introduction",
   "widgets": {}
  },
  "language_info": {
   "name": "python"
  }
 },
 "nbformat": 4,
 "nbformat_minor": 0
}
